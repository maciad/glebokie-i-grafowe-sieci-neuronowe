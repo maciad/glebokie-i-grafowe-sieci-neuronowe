{
 "cells": [
  {
   "cell_type": "markdown",
   "metadata": {},
   "source": [
    "<table>\n",
    "<tr>    \n",
    "<td style=\"text-align: center\">\n",
    "<h1>Wprowadzenie do sieci neuronowych<br />i uczenia maszynowego</h1>\n",
    "<h2><a href=\"http://home.agh.edu.pl/~horzyk/index.php\">Adrian Horzyk</a></h2>\n",
    "</td> \n",
    "<td>\n",
    "<img src=\"http://home.agh.edu.pl/~horzyk/im/AdrianHorzyk49BT140h.png\" alt=\"Adrian Horzyk, Professor\" title=\"Adrian Horzyk, Professor\" />        \n",
    "</td> \n",
    "</tr>\n",
    "</table>\n",
    "<h3><i>Zapraszam do interaktywnego notebooka, w którym możesz dowiedzieć się, jak działają sieci neuronowe, doświadczysz i sprawdzisz ich działanie na wybranych zbiorach danych i przeprowadzisz własne eksperymenty!</i></h3>"
   ]
  },
  {
   "cell_type": "markdown",
   "metadata": {},
   "source": [
    "## Uczenie maszynowe\n",
    "jest ważną częścią informatyki, rozwijającą algorytmy, które są w stanie uczyć się na podstawie danych uczących i dostosowywać się bez wykonywania określonych instrukcji przez programistę.\n",
    "\n",
    "Jaka jest podstawowa różnica między programowaniem klasycznym a uczeniem maszynowym?\n",
    "\n",
    "![difference between classical programming and machine learning](http://home.agh.edu.pl/~horzyk/lectures/figures/Difference-between-classic-programming-and-machine-learning.png)\n",
    "\n",
    "Uczenie maszynowe wprowadza nowy paradygmat programowania, który na postawie prezentacji sieci neuronowej dużej liczby danych i odpowiedzi, ustala reguły, które pozwalają na zautomatyzowanie wybranego procesu bez konieczności programowania a priori i opracowania dedykowanych algorytmów dla tego problemu przez programistę."
   ]
  },
  {
   "cell_type": "markdown",
   "metadata": {},
   "source": [
    "## Sztuczna inteligencja\n",
    "obejmuje wszelkie metody, struktury i algorytmy, które naśladują ludzką inteligencję, uczy się z różnego rodzaju danych treningowych, reaguje na otoczenie, konstruuje reprezentację wiedzy i pozwala na definiowanie celów oraz dążenie do inteligentnego rozwiązania różnych problemów."
   ]
  },
  {
   "cell_type": "markdown",
   "metadata": {},
   "source": [
    "## Inteligencja obliczeniowa\n",
    "to podzbiór metod sztucznej inteligencji skupionych na technikach i algorytmach obliczeniowych, które mogą nauczyć się inteligentnie rozwiązywać różne zadania obliczeniowe, wykorzystując dane treningowe i różne techniki uczenia maszynowego."
   ]
  },
  {
   "cell_type": "markdown",
   "metadata": {},
   "source": [
    "## Grupy zadań uczenia maszynowego (inteligencji obliczeniowej)\n",
    "\n",
    "### Klasyfikacja (classification)\n",
    "przypisuje elementy do zdefiniowanych klasi docelowych, które to kategorie są zwykle określone poprzez zbiór uczący reprezentantów takich /klasy, a model uczy się dokonywać poprawnego przyporządkowania do tych klas.\n",
    "\n",
    "### Klasyfikacja binarna (binary classification)\n",
    "przypisuje elementy do dwóch zdefiniowanych klas (kategorii) docelowych, np. prawda/fałsz.\n",
    "\n",
    "### Klasyfikacja wieloklasowa (multi-class classification)\n",
    "przypisuje pozycje wyłącznie do jednej z wielu zdefiniowanych klas/kategorii docelowych.\n",
    "\n",
    "### Klasyfikacja wieloetykietowa (multi-label classification)\n",
    "przypisuje pozycje jednocześnie do jednej lub więcej zdefiniowanych klas/kategorii docelowych.\n",
    "\n",
    "### Regresja (regression)\n",
    "przewiduje zakres wartości liczbowych (ciągłych) dla danego zestawu danych. Na przykład regresji można użyć do przewidzenia kosztu, prawdopodobieństwa, rozmiaru, wzrostu, długości, siły, wysokości, szerokości itp. - czegoś z danych zmiennych/parametrów."
   ]
  },
  {
   "cell_type": "markdown",
   "metadata": {},
   "source": [
    "## Sztuczne sieci neuronowe (artificial neural networks - ANN)\n",
    "to systemy głównego nurtu w uczeniu maszynowym, inteligencji obliczeniowej i sztucznej inteligencji inspirowane neuronami biologicznymi, ich strukturami i procesami neuronowymi. Obecnie istnieje wiele modeli neuronów i ich sieci, a także wiele algorytmów uczących, które pozwalają dostosować te sieci do różnych zadań obliczeniowych. Dzisiaj systemy neuronowe głębokiego uczenia się są zwykle najskuteczniejsze w rozwiązywaniu różnych problemów, dlatego będą przedmiotem naszych zajęć."
   ]
  },
  {
   "cell_type": "markdown",
   "metadata": {},
   "source": [
    "## Strategie uczenia sieci\n",
    "Możemy wyróżnić kilka głównych grup strategii uczenia się:\n",
    "<ul>\n",
    "<li> <b>Uczenie nienadzorowane</b> (<b>unsupervised learning</b>) to grupa metod, które wykorzystują dane uczące do grupowania ich lub grupowania zgodnie z ich podobieństwami lub innymi istniejącymi relacjami między nimi. Mogą pracować w różnych warunkach, definiując np. uczenie ze współzawodnictwem (<b>competitive learning</b>). Ten rodzaj uczenia nie wymaga definiowania celu nauki sieci, np. etykiet czy przewidywań.<br />\n",
    "Zbiór danych uczących $𝕊={𝑋^1,…,𝑋^𝑁}$ składa się tylko z próbek wejściowych, które nie są oznakowane (nie mają określonego celu), sklasyfikowane lub skategoryzowane, gdzie $𝑋^𝑛=[𝑥_1^𝑛,…, 𝑥_𝐾^𝑛]∈𝑋$. Uczenie nienadzorowane różne typy grupowania, wykrywanie anomalii, metody wykrywania nowości, a także stoi u podstaw uczenia skojarzeniowego.</li>\n",
    "<li> <b>Uczenie ze współzawodnictwem</b> (<b>competitive learning</b>) to rodzaj nienadzorowanego uczenia się, w którym węzły (neurony) rywalizują o prawo do odpowiedzi na podzbiór danych wejściowych i dostosowania parametrów (np. wag), aby wspierać takie odpowiedzi w przyszłość. Dwie główne strategie rywalizacji to \"zwycięzca bierze wszystko\" (winner-takes-all) i \"zwycięzca bierze większość\" (winner-takes-most). Algorytmy takie jak kwantyzacja wektorowa i mapy samoorganizujące się Kohonena (SOM) stosują zasadę konkurencji nienadzorowanej.</li>\n",
    "<li> <b>Uczenie nadzorowane</b> (<b>supervised learning</b>) to grupa metod, która wymaga określenia celu szkolenia, m.in. klas lub wartości przewidywanych, a takie uczenie dąży do osiągnięcia tego celu poprzez dostosowanie dowolnych parametrów modelu (np. wag) podczas procesu uczenia, który zwykle opiera się na pewnych strategiach optymalizacyjnych (np. algorytm wstecznej propagacji). Cel treningu jest określony etykietami (w przypadku klasyfikacji) lub wartościami przewidywanymi (w przypadku problemów z regresją). Ten rodzaj uczenia się jest najpopularniejszy i najczęściej wykorzystywany w praktyce, więc naszą przygodę z inteligencją obliczeniową rozpoczniemy od tego rodzaju uczenia się sieci neuronowych.<br />\n",
    "Zbiór danych uczących (przykłady uczące) $𝕊={𝑃^1,…,𝑃^𝑁}$ jest zdefiniowany jako zbiór par $𝑃^𝑛=[𝑋^𝑛,𝑌^𝑛]$, gdzie\n",
    "próbka wejściowa $𝑋^𝑛=[𝑥_1^𝑛,…,𝑥_𝐾^𝑛]∈𝑋$ i cel wyjściowy (etykieta lub wartość liczbowa) $𝑌^𝑛=[𝑦_1^𝑛,…,𝑦_𝐿^𝑛]∈𝑌$ są zwykle definiowane jako wektory (macierze lub tensory).<br />\n",
    "Celem uczenia nadzorowanego jest modelowanie wywnioskowanej funkcji $𝑓:𝑋→𝑌$ i dla każdego $n = 1, …, N$ model jest uczony, aby dopasować swoje wyniki do pożądanych wyników (zdefiniowanych w zbiorze danych uczących ): $𝑓(𝑋^𝑛 )≅𝑌^𝑛$. Aby to osiągnąć, algorytm uczący stara się zminimalizować błąd (stratę) $𝛿=𝑌^𝑛−𝑓(𝑋^𝑛)$ i jednocześnie uzyskać dobre właściwości uogólniające modelu. Taka funkcja może modelować zadania klasyfikacyjne lub regresyjne.<br />\n",
    "<b>Uogólnienie</b> (generalizacja) oznacza zdolność modelu do osiągnięcia $𝑓(𝑋^𝑛 )≅𝑌^𝑛$ dla par zbiorów testowych po zakończeniu procesu uczenia modelu.</li>\n",
    "<li> <b>Uczenie słabo nadzorowane</b> (<b>weakly supervised learning</b>) to grupa metod, w których do przekazywania sygnału nadzoru do oznaczania dużych ilości danych szkoleniowych w nadzorowanym środowisku uczenia się wykorzystywane są zaburzone, ograniczone lub nieprecyzyjne źródła. Takie podejście zmniejsza potrzebę stosowania ręcznie poetykietowanych zestawów danych, co jest zwykle kosztowne lub niepraktyczne. Zamiast tego stosuje się niedrogie, słabe etykiety z założeniem, że są one niedoskonałe, ale mimo to można je wykorzystać do stworzenia silnego modelu predykcyjnego. Słabe etykiety mogą być obliczane lub definiowane przez osoby niebędące ekspertami.</li>\n",
    "<li> <b>Uczenie częściowo nadzorowane</b> (<b>semi-supervised learning</b>) to grupa metod, które wykorzystują założenia strukturalne do automatycznego wykorzystywania danych nieoznaczonych. W tym podejściu podczas uczenia używana jest niewielka ilość danych oznaczonych etykietami z dużą ilością danych nieoznakowanych. Etykiety mogą być używane do podobnych danych treningowych, które są nieoznaczone. Jest to szczególny przypadek uczenia słabo nadzorowanego.</li>\n",
    "<li> <b>Uczenie ze wzmacnianiem</b> (<b>reinforcement learning</b>) to grupa metod, które wykorzystują inteligentnych agentów do maksymalizacji skumulowanej nagrody za podjęte działania w środowisku. Ten rodzaj uczenia się nie wymaga etykietowania danych, ale oceny wyników podjętych działań. Ta ocena może być wykonana przez środowisko, ale w praktyce często używamy funkcji do wykonywania takich ocen.</li>\n",
    "<li> <b>Uczenie motywowane</b> (<b>motivated learning</b>) to grupa metod, która definiuje podstawowe potrzeby i automatycznie rozwija potrzeby wtórne, które wpływają na podstawowe i kontrolują interakcje z otoczeniem za pomocą bólu i/lub przyjemności. Podczas procesu uczenia się, podstawowe potrzeby powinny być zaspokajane w sposób umożliwiający minimalizację bólu (kara) i/lub maksymalizacji przyjemności (nagroda), które działają jako czynniki motywujące.</li>\n",
    "<li> <b>Uczenie skojarzeniowe</b> (<b>associative learning</b>) to grupa metod, która uczy się na podstawie relacji i ich siły między danymi uczącymi, agregując reprezentację podobnych cech i obiektów, łącząc je ze względu na ich relacje i działania różnego rodzaju, ważenie ich według ich mocnych stron lub częstotliwości zdarzeń, odwzorowywanie ich mocnych stron i pozwalanie na wywoływanie tworzonych skojarzeń przywołujących skojarzone obiekty dla danych wejściowych lub zdefiniowanych kontekstów. Może wykorzystywać etykietowane i niepoetykietowane dane do klasyfikacji lub regresji, a także przewidywania działań przy użyciu czynników motywujących, jeśli to konieczne.</li>\n",
    "</ul>\n",
    "\n",
    "Najpierw skupimy się na najczęściej stosowanych uczeniu nadzorowanym i zadaniach obliczeniowych, które go wykorzystują."
   ]
  },
  {
   "cell_type": "markdown",
   "metadata": {},
   "source": [
    "### Dane uczące/treningowe (do uczenia modelu) (training data)\n",
    "składają się z przykładów szkoleniowych, które powinny obejmować przestrzeń danych wejściowych rozwiązywanego problemu, a dla uczenia nadzorowanego definiują poprawną ocenę (np. klasyfikacja, przewidywanie, aproksymacja, rekomendacja) danych wejściowych zdefiniowanych przez rozwiązywane zadanie.\n",
    "\n",
    "### Dane walidacyjne (do walidacji modelu) (validation data)\n",
    "składają się z przykładów podobnych do przykładów uczących, ale służą do walidacji i oceniania modelu podczas uczenia, sprawdzania niezawodności modelu w celu uogólnienia danych uczących.\n",
    "\n",
    "### Date testujące (do testowania modelu) (testing data)\n",
    "składają się z przykładów podobnych do przykładów szkoleniowych (danych uczących), ale nigdy nie są używane w procesie uczenia w celu sprawdzenia, czy model dobrze uogólnia dane, czyli testujemy model nimi dopiero po zakończeniu procesu nauki modelu."
   ]
  },
  {
   "cell_type": "markdown",
   "metadata": {},
   "source": [
    "# Środowisko programistyczne\n",
    "Jako podstawy dla naszych aplikacji i eksperymentów użyjemy notatnika Jupyter lub notatnika Google Colaboration z różnymi bibliotekami Python 3+ oraz Keras i Tensorflow 2.0, np. sklearn, pandas, numpy, matplotlib, aby rozszerzyć możliwości naszych rozwiązań."
   ]
  },
  {
   "cell_type": "code",
   "execution_count": 1,
   "metadata": {},
   "outputs": [
    {
     "name": "stderr",
     "output_type": "stream",
     "text": [
      "2024-03-12 15:51:26.605599: I tensorflow/core/platform/cpu_feature_guard.cc:210] This TensorFlow binary is optimized to use available CPU instructions in performance-critical operations.\n",
      "To enable the following instructions: AVX2 FMA, in other operations, rebuild TensorFlow with the appropriate compiler flags.\n"
     ]
    },
    {
     "name": "stdout",
     "output_type": "stream",
     "text": [
      "TensorFlow version: 2.16.1\n",
      "Keras version: 3.0.5\n"
     ]
    }
   ],
   "source": [
    "import tensorflow as tf\n",
    "import keras\n",
    "\n",
    "print (\"TensorFlow version: \" + tf.__version__)\n",
    "print (\"Keras version: \" + keras.__version__)"
   ]
  },
  {
   "cell_type": "markdown",
   "metadata": {},
   "source": [
    "# Pierwsza sieć neurnowa do klasyfikacji\n",
    "\n",
    "Zbudujmy pierwszą sieć neuronową do klasyfikowania odręcznych cyfr ze zbioru danych MNIST i trenowania jej przy użyciu uczenia nadzorowanego (supervised learning) - obecnie najczęściej stosowanego.\n",
    "\n",
    "----\n",
    "## Klasyfikacja dla zbioru MNIST\n",
    "\n",
    "Problem polega na sklasyfikowaniu obrazów odręcznych cyfr w skali szarości (przechowywanych jako 28 na 28 pikseli) na 10\n",
    "kategorie/klasy oznaczone jako od 0 do 9. Zbiór danych MNIST łatwo dostępny w Keras składa się z 60 000 obrazów szkoleniowych oraz 10 000 obrazów testowych, zebranych przez Narodowy Instytut Standardów i Technologii (NIST w MNIST) w latach 80-tych. Zestaw danych MNIST jest wstępnie załadowany w Keras w postaci zestawu czterech tablic Numpy:"
   ]
  },
  {
   "cell_type": "code",
   "execution_count": 2,
   "metadata": {},
   "outputs": [
    {
     "name": "stdout",
     "output_type": "stream",
     "text": [
      "Downloading data from https://storage.googleapis.com/tensorflow/tf-keras-datasets/mnist.npz\n",
      "\u001b[1m11490434/11490434\u001b[0m \u001b[32m━━━━━━━━━━━━━━━━━━━━\u001b[0m\u001b[37m\u001b[0m \u001b[1m47s\u001b[0m 4us/step\n"
     ]
    }
   ],
   "source": [
    "from keras.datasets import mnist\n",
    "\n",
    "# Load the data splitted between train and test sets\n",
    "(train_images, train_labels), (test_images, test_labels) = mnist.load_data()"
   ]
  },
  {
   "cell_type": "markdown",
   "metadata": {},
   "source": [
    "gdzie \n",
    "`train_images` i `train_labels` tworzą <b>zestaw treningowy</b>, używany do trenowania modelu;\n",
    "`test_images` i `test_labels` tworzą <b>zestaw testowy</b>, używany do testowania właściwości uogólnienia modelu. \n",
    "\n",
    "Wszystkie obrazy są zakodowane jako tablice Numpy, a etykiety są po prostu zakodowane jako tablica cyfr w zakresie od 0 do 9.\n",
    "Pomiędzy obrazami a etykietami istnieje zależność jeden do jednego.\n",
    "\n",
    "Przyjrzyjmy się załadowanym danym treningowym i testowym, ich kształtom i etykietom:"
   ]
  },
  {
   "cell_type": "code",
   "execution_count": 4,
   "metadata": {},
   "outputs": [
    {
     "name": "stdout",
     "output_type": "stream",
     "text": [
      "Number of training data:  60000\n",
      "Training data shape:  (60000, 28, 28)\n",
      "Training data labels:  [5 0 4 ... 5 6 8]\n",
      "Number of test data:  10000\n",
      "Test data shape:  (10000, 28, 28)\n",
      "Test data labels:  [7 2 1 ... 4 5 6]\n"
     ]
    }
   ],
   "source": [
    "print (\"Number of training data: \", len(train_labels))\n",
    "print (\"Training data shape: \", train_images.shape)\n",
    "print (\"Training data labels: \", train_labels)\n",
    "\n",
    "print (\"Number of test data: \", len(test_labels))\n",
    "print (\"Test data shape: \", test_images.shape)\n",
    "print (\"Test data labels: \", test_labels)"
   ]
  },
  {
   "cell_type": "markdown",
   "metadata": {},
   "source": [
    "Teraz możemy zobaczyć kilka przykładów odręcznych cyfr ze zbioru danych treningowych, używając mathpllotlib:"
   ]
  },
  {
   "cell_type": "code",
   "execution_count": 7,
   "metadata": {},
   "outputs": [
    {
     "data": {
      "text/plain": [
       "<Figure size 150x150 with 0 Axes>"
      ]
     },
     "metadata": {},
     "output_type": "display_data"
    },
    {
     "data": {
      "image/png": "[encoded data removed]",
      "text/plain": [
       "<Figure size 1500x100 with 15 Axes>"
      ]
     },
     "metadata": {},
     "output_type": "display_data"
    }
   ],
   "source": [
    "import matplotlib.pyplot as plt  # library for plotting math functions: https://matplotlib.org/stable/index.html\n",
    "%matplotlib inline\n",
    "plt.rcParams['image.interpolation'] = 'nearest'\n",
    "plt.rcParams['image.cmap'] = 'gray'\n",
    "\n",
    "# Show a few sample digits from the training set together with their labels\n",
    "# plt.figure(figsize=(1.5,1.5))\n",
    "col1 = 15\n",
    "row1 = 1\n",
    "fig = plt.figure(figsize=(col1, row1))\n",
    "for index1 in range(0, col1*row1):\n",
    "    fig.add_subplot(row1, col1, index1 + 1)\n",
    "    plt.axis('off')\n",
    "    plt.imshow(train_images[index1]) # index of the sample image\n",
    "    plt.title(\"Class \" + str(train_labels[index1]))\n",
    "plt.show()"
   ]
  },
  {
   "cell_type": "code",
   "execution_count": 9,
   "metadata": {
    "scrolled": true
   },
   "outputs": [
    {
     "data": {
      "image/png": "[encoded data removed]",
      "text/plain": [
       "<Figure size 1500x500 with 75 Axes>"
      ]
     },
     "metadata": {},
     "output_type": "display_data"
    }
   ],
   "source": [
    "# Show a few sample digits from the training set\n",
    "# plt.figure(figsize=(1.5,1.5))\n",
    "col2 = 15\n",
    "row2 = 5\n",
    "fig = plt.figure(figsize=(col2, row2))\n",
    "for index2 in range(0, col2*row2):\n",
    "    fig.add_subplot(row2, col2, index2 + 1)\n",
    "    plt.axis('off')\n",
    "    plt.imshow(train_images[index2]) # index of the sample image\n",
    "plt.show()"
   ]
  },
  {
   "cell_type": "markdown",
   "metadata": {},
   "source": [
    "Model budujemy i uczymy w następujących krokach (workflow):\n",
    "\n",
    "1. Skonstruujemy model, definiując prostą strukturę sieci neuronowej składającej się z dwóch warstw gęstych (Dense).\n",
    "2. Prezentujemy naszą sieć neuronową z danymi uczącymi, `train_images` i `train_labels`, aby nauczyć ją kojarzyć obrazy wejściowe i etykiety wyjściowe (pożądane wyjścia).\n",
    "3. Na koniec poprosimy sieć o wygenerowanie prognoz dla `test_images` i zweryfikujemy, czy te prognozy pasują do etykiet z `test_labels`.\n",
    "\n",
    "Zbudujmy naszą sieć neuronową:"
   ]
  },
  {
   "cell_type": "code",
   "execution_count": 25,
   "metadata": {},
   "outputs": [
    {
     "name": "stderr",
     "output_type": "stream",
     "text": [
      "/Users/maciekadamus/opt/anaconda3/envs/ggsn/lib/python3.11/site-packages/keras/src/layers/core/dense.py:85: UserWarning: Do not pass an `input_shape`/`input_dim` argument to a layer. When using Sequential models, prefer using an `Input(shape)` object as the first layer in the model instead.\n",
      "  super().__init__(activity_regularizer=activity_regularizer, **kwargs)\n"
     ]
    }
   ],
   "source": [
    "from keras import models\n",
    "from keras import layers\n",
    "\n",
    "num_classes = 10\n",
    "\n",
    "network = models.Sequential()\n",
    "network.add(layers.Dense(256, activation='relu', input_shape=(28 * 28,), name='asd'))\n",
    "network.add(layers.Dense(num_classes, activation='softmax'))"
   ]
  },
  {
   "cell_type": "code",
   "execution_count": 26,
   "metadata": {},
   "outputs": [
    {
     "data": {
      "text/html": [
       "<pre style=\"white-space:pre;overflow-x:auto;line-height:normal;font-family:Menlo,'DejaVu Sans Mono',consolas,'Courier New',monospace\"><span style=\"font-weight: bold\">Model: \"sequential_11\"</span>\n",
       "</pre>\n"
      ],
      "text/plain": [
       "\u001b[1mModel: \"sequential_11\"\u001b[0m\n"
      ]
     },
     "metadata": {},
     "output_type": "display_data"
    },
    {
     "data": {
      "text/html": [
       "<pre style=\"white-space:pre;overflow-x:auto;line-height:normal;font-family:Menlo,'DejaVu Sans Mono',consolas,'Courier New',monospace\">┏━━━━━━━━━━━━━━━━━━━━━━━━━━━━━━━━━┳━━━━━━━━━━━━━━━━━━━━━━━━┳━━━━━━━━━━━━━━━┓\n",
       "┃<span style=\"font-weight: bold\"> Layer (type)                    </span>┃<span style=\"font-weight: bold\"> Output Shape           </span>┃<span style=\"font-weight: bold\">       Param # </span>┃\n",
       "┡━━━━━━━━━━━━━━━━━━━━━━━━━━━━━━━━━╇━━━━━━━━━━━━━━━━━━━━━━━━╇━━━━━━━━━━━━━━━┩\n",
       "│ asd (<span style=\"color: #0087ff; text-decoration-color: #0087ff\">Dense</span>)                     │ (<span style=\"color: #00d7ff; text-decoration-color: #00d7ff\">None</span>, <span style=\"color: #00af00; text-decoration-color: #00af00\">256</span>)            │       <span style=\"color: #00af00; text-decoration-color: #00af00\">200,960</span> │\n",
       "├─────────────────────────────────┼────────────────────────┼───────────────┤\n",
       "│ dense_6 (<span style=\"color: #0087ff; text-decoration-color: #0087ff\">Dense</span>)                 │ (<span style=\"color: #00d7ff; text-decoration-color: #00d7ff\">None</span>, <span style=\"color: #00af00; text-decoration-color: #00af00\">10</span>)             │         <span style=\"color: #00af00; text-decoration-color: #00af00\">2,570</span> │\n",
       "└─────────────────────────────────┴────────────────────────┴───────────────┘\n",
       "</pre>\n"
      ],
      "text/plain": [
       "┏━━━━━━━━━━━━━━━━━━━━━━━━━━━━━━━━━┳━━━━━━━━━━━━━━━━━━━━━━━━┳━━━━━━━━━━━━━━━┓\n",
       "┃\u001b[1m \u001b[0m\u001b[1mLayer (type)                   \u001b[0m\u001b[1m \u001b[0m┃\u001b[1m \u001b[0m\u001b[1mOutput Shape          \u001b[0m\u001b[1m \u001b[0m┃\u001b[1m \u001b[0m\u001b[1m      Param #\u001b[0m\u001b[1m \u001b[0m┃\n",
       "┡━━━━━━━━━━━━━━━━━━━━━━━━━━━━━━━━━╇━━━━━━━━━━━━━━━━━━━━━━━━╇━━━━━━━━━━━━━━━┩\n",
       "│ asd (\u001b[38;5;33mDense\u001b[0m)                     │ (\u001b[38;5;45mNone\u001b[0m, \u001b[38;5;34m256\u001b[0m)            │       \u001b[38;5;34m200,960\u001b[0m │\n",
       "├─────────────────────────────────┼────────────────────────┼───────────────┤\n",
       "│ dense_6 (\u001b[38;5;33mDense\u001b[0m)                 │ (\u001b[38;5;45mNone\u001b[0m, \u001b[38;5;34m10\u001b[0m)             │         \u001b[38;5;34m2,570\u001b[0m │\n",
       "└─────────────────────────────────┴────────────────────────┴───────────────┘\n"
      ]
     },
     "metadata": {},
     "output_type": "display_data"
    },
    {
     "data": {
      "text/html": [
       "<pre style=\"white-space:pre;overflow-x:auto;line-height:normal;font-family:Menlo,'DejaVu Sans Mono',consolas,'Courier New',monospace\"><span style=\"font-weight: bold\"> Total params: </span><span style=\"color: #00af00; text-decoration-color: #00af00\">203,530</span> (795.04 KB)\n",
       "</pre>\n"
      ],
      "text/plain": [
       "\u001b[1m Total params: \u001b[0m\u001b[38;5;34m203,530\u001b[0m (795.04 KB)\n"
      ]
     },
     "metadata": {},
     "output_type": "display_data"
    },
    {
     "data": {
      "text/html": [
       "<pre style=\"white-space:pre;overflow-x:auto;line-height:normal;font-family:Menlo,'DejaVu Sans Mono',consolas,'Courier New',monospace\"><span style=\"font-weight: bold\"> Trainable params: </span><span style=\"color: #00af00; text-decoration-color: #00af00\">203,530</span> (795.04 KB)\n",
       "</pre>\n"
      ],
      "text/plain": [
       "\u001b[1m Trainable params: \u001b[0m\u001b[38;5;34m203,530\u001b[0m (795.04 KB)\n"
      ]
     },
     "metadata": {},
     "output_type": "display_data"
    },
    {
     "data": {
      "text/html": [
       "<pre style=\"white-space:pre;overflow-x:auto;line-height:normal;font-family:Menlo,'DejaVu Sans Mono',consolas,'Courier New',monospace\"><span style=\"font-weight: bold\"> Non-trainable params: </span><span style=\"color: #00af00; text-decoration-color: #00af00\">0</span> (0.00 B)\n",
       "</pre>\n"
      ],
      "text/plain": [
       "\u001b[1m Non-trainable params: \u001b[0m\u001b[38;5;34m0\u001b[0m (0.00 B)\n"
      ]
     },
     "metadata": {},
     "output_type": "display_data"
    },
    {
     "name": "stdout",
     "output_type": "stream",
     "text": [
      "None\n"
     ]
    }
   ],
   "source": [
    "# Now print the full model summary, which indicates the layers and the number of parameters\n",
    "print(network.summary())"
   ]
  },
  {
   "cell_type": "markdown",
   "metadata": {},
   "source": [
    "Podstawowym elementem budulcowym sieci neuronowych jest <b>warstwa</b>, moduł przetwarzania danych, który można sobie wyobrazić jako <b>filtr</b> danych. Każda warstwa zawiera pewną liczbę jednostek obliczeniowych (zwanych <b>neuronami</b>). W każdej warstwie niektóre dane wchodzą i wychodzą.\n",
    "\n",
    "Nasza prosta sieć składa się z sekwencji dwóch „gęstych” warstw, które są gęsto połączonymi (zwanymi również „w pełni połączonymi”) warstwami neuronowymi, tj. neurony są połączone przy użyciu podejścia „każdy-z-każdym”:\n",
    "Pierwsza (ukryta) warstwa składa się z 256 neuronów wykorzystujących funkcję aktywacji `relu` i pobierających dane z wejściowego kształtu (tensora) obrazów zdefiniowanych jako 28 na 28 pikseli.\n",
    "Druga (ostatnia i wyjściowa) warstwa to 10-kierunkowa warstwa „softmax”, która zwraca tablicę 10 wyników prawdopodobieństwa (wszystkie sumują się do 1). Każdy wynik będzie prawdopodobieństwem, że aktualnie prezentowany obraz cyfrowy należy do jednej z 10 klas reprezentujących poszczególne cyfry, tj. udzielą nam odpowiedzi, na ile obraz wejściowy jest podobny do klasy (kategorii) wyjściowej?\n",
    "\n",
    "Aby nasza sieć była gotowa do nauki, musimy wybrać jeszcze trzy rzeczy:\n",
    "\n",
    "* Optymalizator (optimizer) (tutaj `rmsprop`), czyli mechanizm, dzięki któremu sieć będzie się aktualizować na podstawie danych i ich funkcji utraty. Istnieją różne mechanizmy, które mogą kontrolować proces szkolenia.\n",
    "* Funkcja straty (loss function) (tutaj `categorical_crossentropy`), określająca, w jaki sposób sieć będzie mierzyć, jak dobrze nauczyła się już danych uczących, a zatem jak bardzo powinna kierować się we właściwym kierunku. Ta funkcja (definiowanie aktualnego błędu sieci) jest minimalizowana podczas procesu uczenia dzięki zastosowaniu gradientowych metod optymalizacji.\n",
    "* Metryki (metrics) do monitorowania procesów uczenia i testowania. Tutaj będziemy dbali tylko o „dokładność”, czyli ułamek zdjęć, które zostały poprawnie sklasyfikowane."
   ]
  },
  {
   "cell_type": "code",
   "execution_count": 27,
   "metadata": {},
   "outputs": [],
   "source": [
    "network.compile(optimizer='rmsprop',\n",
    "                loss='categorical_crossentropy',\n",
    "                metrics=['accuracy'])"
   ]
  },
  {
   "cell_type": "markdown",
   "metadata": {},
   "source": [
    "Nasze obrazy szkoleniowe zostały załadowane do tablicy (3D tensora) o kształcie `(60000, 28, 28)` typu `uint8` z wartościami w przedziale `[0, 255]`.\n",
    "\n",
    "Przed rozpoczęciem procesu uczenia musimy przekształcić nasze dane do kształtu wymaganego przez sieć i przeskalować je do przedziału `[0, 1]`. Przekształcamy je w tablicę `float32` o kształcie `(60000, 28 * 28)` o wartościach z przedziału `[0, 1]`."
   ]
  },
  {
   "cell_type": "code",
   "execution_count": 28,
   "metadata": {},
   "outputs": [],
   "source": [
    "train_images = train_images.reshape((60000, 28 * 28))\n",
    "train_images = train_images.astype('float32') / 255\n",
    "\n",
    "test_images = test_images.reshape((10000, 28 * 28))\n",
    "test_images = test_images.astype('float32') / 255"
   ]
  },
  {
   "cell_type": "markdown",
   "metadata": {},
   "source": [
    "Musimy również kategorycznie zakodować etykiety (categorically encode the labels), które zostały załadowane jako liczby od 0 do 9:"
   ]
  },
  {
   "cell_type": "code",
   "execution_count": 29,
   "metadata": {},
   "outputs": [],
   "source": [
    "import tensorflow\n",
    "from tensorflow.keras import utils\n",
    "from tensorflow.keras.utils import to_categorical\n",
    "\n",
    "train_labels = tensorflow.keras.utils.to_categorical(train_labels, num_classes)\n",
    "test_labels = tensorflow.keras.utils.to_categorical(test_labels, num_classes)"
   ]
  },
  {
   "cell_type": "markdown",
   "metadata": {},
   "source": [
    "Teraz jesteśmy gotowi do uczenia naszej pierwszej sieci. Odbywa się to za pomocą metody `fit`, która nauczy sieć, aby „dopasowała” nasz model do danych uczących.\n",
    "\n",
    "Sieci są uczone są zwykle w wielu epokach, więc musimy zdefiniować, ile epok będzie wykonanych w trakcie uczenia naszego modelu.\n",
    "Powinniśmy również określić wielkość tzw. mini-partii używanych do trenowania sieci w jednym kroku, które wpływają na szybkość treningu i jego stabilność."
   ]
  },
  {
   "cell_type": "code",
   "execution_count": 30,
   "metadata": {},
   "outputs": [
    {
     "name": "stdout",
     "output_type": "stream",
     "text": [
      "Epoch 1/10\n",
      "\u001b[1m469/469\u001b[0m \u001b[32m━━━━━━━━━━━━━━━━━━━━\u001b[0m\u001b[37m\u001b[0m \u001b[1m5s\u001b[0m 7ms/step - accuracy: 0.8603 - loss: 0.5024\n",
      "Epoch 2/10\n",
      "\u001b[1m469/469\u001b[0m \u001b[32m━━━━━━━━━━━━━━━━━━━━\u001b[0m\u001b[37m\u001b[0m \u001b[1m3s\u001b[0m 6ms/step - accuracy: 0.9587 - loss: 0.1406\n",
      "Epoch 3/10\n",
      "\u001b[1m469/469\u001b[0m \u001b[32m━━━━━━━━━━━━━━━━━━━━\u001b[0m\u001b[37m\u001b[0m \u001b[1m5s\u001b[0m 6ms/step - accuracy: 0.9723 - loss: 0.0929\n",
      "Epoch 4/10\n",
      "\u001b[1m469/469\u001b[0m \u001b[32m━━━━━━━━━━━━━━━━━━━━\u001b[0m\u001b[37m\u001b[0m \u001b[1m3s\u001b[0m 6ms/step - accuracy: 0.9800 - loss: 0.0669\n",
      "Epoch 5/10\n",
      "\u001b[1m469/469\u001b[0m \u001b[32m━━━━━━━━━━━━━━━━━━━━\u001b[0m\u001b[37m\u001b[0m \u001b[1m5s\u001b[0m 10ms/step - accuracy: 0.9847 - loss: 0.0559\n",
      "Epoch 6/10\n",
      "\u001b[1m469/469\u001b[0m \u001b[32m━━━━━━━━━━━━━━━━━━━━\u001b[0m\u001b[37m\u001b[0m \u001b[1m4s\u001b[0m 9ms/step - accuracy: 0.9876 - loss: 0.0417\n",
      "Epoch 7/10\n",
      "\u001b[1m469/469\u001b[0m \u001b[32m━━━━━━━━━━━━━━━━━━━━\u001b[0m\u001b[37m\u001b[0m \u001b[1m5s\u001b[0m 8ms/step - accuracy: 0.9908 - loss: 0.0331\n",
      "Epoch 8/10\n",
      "\u001b[1m469/469\u001b[0m \u001b[32m━━━━━━━━━━━━━━━━━━━━\u001b[0m\u001b[37m\u001b[0m \u001b[1m3s\u001b[0m 7ms/step - accuracy: 0.9924 - loss: 0.0297\n",
      "Epoch 9/10\n",
      "\u001b[1m469/469\u001b[0m \u001b[32m━━━━━━━━━━━━━━━━━━━━\u001b[0m\u001b[37m\u001b[0m \u001b[1m4s\u001b[0m 8ms/step - accuracy: 0.9944 - loss: 0.0225\n",
      "Epoch 10/10\n",
      "\u001b[1m469/469\u001b[0m \u001b[32m━━━━━━━━━━━━━━━━━━━━\u001b[0m\u001b[37m\u001b[0m \u001b[1m5s\u001b[0m 7ms/step - accuracy: 0.9954 - loss: 0.0192\n"
     ]
    }
   ],
   "source": [
    "epochs = 10        # the number of training epochs\n",
    "batch_size = 128  # the size of mini-batches used for training the network in one step\n",
    "history = network.fit(train_images, train_labels, epochs = epochs, batch_size = batch_size)"
   ]
  },
  {
   "cell_type": "markdown",
   "metadata": {},
   "source": [
    "Podczas trenowania wyświetlane są dwie wielkości: <b>strata</b> (`loss`) i <b>dokładność</b> (`accuracy`) sieci uzyskanych dla danych uczących. Jak widać szybko osiągnęliśmy rewelacyjną dokładność prawie `100%` na danych uczących, ale sprawdźmy, jak nasz model spisuje się na zbiorze testowym? Dlatego musimy ocenić (`evaluate`) wytrenowany model na danych testowych:"
   ]
  },
  {
   "cell_type": "code",
   "execution_count": 31,
   "metadata": {},
   "outputs": [
    {
     "name": "stdout",
     "output_type": "stream",
     "text": [
      "\u001b[1m313/313\u001b[0m \u001b[32m━━━━━━━━━━━━━━━━━━━━\u001b[0m\u001b[37m\u001b[0m \u001b[1m2s\u001b[0m 4ms/step - accuracy: 0.9776 - loss: 0.0730\n"
     ]
    }
   ],
   "source": [
    "# Evaluate the model and print out the final scores for the test set\n",
    "#score = network.evaluate(test_images, test_labels, verbose=0)  # evaluate the model on the test set\n",
    "#print('Test loss:', score[0])      # print out the test_loss = score[0] (generalization error) \n",
    "#print('Test accuracy:', score[1])  # print out the test_acc = score[1] of the model on test set\n",
    "\n",
    "# Evaluate the model and print out the final scores for the test set\n",
    "test_loss, test_acc = network.evaluate(test_images, test_labels)"
   ]
  },
  {
   "cell_type": "code",
   "execution_count": 32,
   "metadata": {},
   "outputs": [
    {
     "name": "stdout",
     "output_type": "stream",
     "text": [
      "test_acc: 0.9811999797821045\n"
     ]
    }
   ],
   "source": [
    "print('test_acc:', test_acc)"
   ]
  },
  {
   "cell_type": "markdown",
   "metadata": {},
   "source": [
    "Okazuje się, że dokładność naszego modelu na zbiorze testowym wyniosła ponad `98%` - to tylko ok. `1,4%` gorzej niż dokładność uzyskana dla zbioru uczącego. Ten wynik generalnie nie jest zły, biorąc pod uwagę, że zastosowaliśmy bardzo prosty model. Jednak postaramy się uzyskać jeszcze lepszy wynik później.\n",
    "Ta luka między dokładnością uczenia a dokładnością testu nazywana jest <b>wariancją</b> (`variance`) modelu i określa, czy model nie <b>dopasował się nadmiernie</b> (`overfitting`) tracąc możliwość wystarczająco dobrego uogólniania danych uczących, tj. czy model ma tendencję do uzyskiwania gorszej wydajności na nowych (testowych) danych niż na danych treningowych?\n",
    "\n",
    "Zobaczmy historię procesu uczenia (treningu sieci) na wykresie:"
   ]
  },
  {
   "cell_type": "code",
   "execution_count": 36,
   "metadata": {},
   "outputs": [
    {
     "data": {
      "image/png": "[encoded data removed]",
      "text/plain": [
       "<Figure size 1500x500 with 1 Axes>"
      ]
     },
     "metadata": {},
     "output_type": "display_data"
    }
   ],
   "source": [
    "# Plot training & validation accuracy values: https://keras.io/visualization/#training-history-visualization\n",
    "plt.rcParams['figure.figsize'] = (15.0, 5.0) # set default size of plots\n",
    "plt.plot(history.history['accuracy']) # The history object gets returned by the fit method of models.\n",
    "plt.title('Model accuracy')\n",
    "plt.ylabel('Accuracy')\n",
    "plt.xlabel('Epoch')\n",
    "plt.legend(['Train', 'Test'], loc='upper left')\n",
    "plt.show()"
   ]
  },
  {
   "cell_type": "markdown",
   "metadata": {},
   "source": [
    "Jak widać, zbieżność modelu, który uzyskał przyzwoicie wysoką dokładność na danych uczących, nastąpiła dość szybko :)"
   ]
  },
  {
   "cell_type": "code",
   "execution_count": 39,
   "metadata": {},
   "outputs": [],
   "source": [
    "import seaborn as sns\n",
    "from sklearn import metrics\n",
    "from sklearn.metrics import confusion_matrix, classification_report\n",
    "LABELS = ['0', '1', '2', '3', '4', '5', '6', '7', '8', '9']\n",
    "\n",
    "# Define the confusion matrix for the results\n",
    "def show_confusion_matrix(validations, predictions, num_classes):\n",
    "    matrix = metrics.confusion_matrix(validations, predictions)\n",
    "    plt.figure(figsize=(num_classes, num_classes))\n",
    "    hm = sns.heatmap(matrix,\n",
    "                cmap='coolwarm',\n",
    "                linecolor='white',\n",
    "                linewidths=1,\n",
    "                xticklabels=LABELS,\n",
    "                yticklabels=LABELS,\n",
    "                annot=True,\n",
    "                fmt='d')\n",
    "    plt.yticks(rotation = 0)  # Don't rotate (vertically) the y-axis labels\n",
    "    hm.set_ylim(0, len(matrix))\n",
    "    plt.title('Confusion Matrix')\n",
    "    plt.ylabel('True Label')\n",
    "    plt.xlabel('Predicted Label')\n",
    "    plt.show()"
   ]
  },
  {
   "cell_type": "markdown",
   "metadata": {},
   "source": [
    "<b>Macierz konfuzji</b> (`confusion matrix`) pokazuje nam, w ilu przypadkach dane testowe zostały poprawnie zaklasyfikowane (główna przekątna macierzy), w ilu niepoprawnie, oraz wzorce których klas byly najczęściej mylone z wzrocami innych klas. \n",
    "Macierz konfuzji pozwala przeanalizować, wzorce których klas są najczęściej błędnie klasyfikowane, oraz pozwalają podjąć działania zmierzające do wzmocnienia/powtórzenia procesu uczenia dla tych najtrudniej klasyfikowanych klas lub wzorców, ew. dokonanie augmentacji dla wzorców tych klas, o ile to możliwe. Dlatego w przypadku problemów klasyfikacji macierz konfuzji powinna zostać dokładnie przeanalizowana, a wnioski wykorzystane do poprawy klasyfikatora. Skupiamy się oczywiście na wzorcach tych klas, gdzie wartości poza główną przekątną macierzy są największe. Pomaga również obejrzenie przykładów testowych błędnie sklasyfikowanych, gdyż może się okazać, iż są błędnie przyporządkowane do etykiet albo nawet człowiek lub nikt nie jest w stanie tego zrobić poprawnie ze względu na słabą jakość, rozmycie lub inne czynniki (przekroczenie tzw. \"human-level performance\"). "
   ]
  },
  {
   "cell_type": "code",
   "execution_count": 42,
   "metadata": {},
   "outputs": [
    {
     "name": "stdout",
     "output_type": "stream",
     "text": [
      "\u001b[1m313/313\u001b[0m \u001b[32m━━━━━━━━━━━━━━━━━━━━\u001b[0m\u001b[37m\u001b[0m \u001b[1m1s\u001b[0m 4ms/step\n"
     ]
    },
    {
     "data": {
      "image/png": "[encoded data removed]",
      "text/plain": [
       "<Figure size 1000x1000 with 2 Axes>"
      ]
     },
     "metadata": {},
     "output_type": "display_data"
    },
    {
     "name": "stdout",
     "output_type": "stream",
     "text": [
      "              precision    recall  f1-score   support\n",
      "\n",
      "           0       0.99      0.99      0.99       980\n",
      "           1       0.99      0.99      0.99      1135\n",
      "           2       0.97      0.98      0.98      1032\n",
      "           3       0.97      0.99      0.98      1010\n",
      "           4       0.99      0.98      0.98       982\n",
      "           5       0.98      0.98      0.98       892\n",
      "           6       0.98      0.99      0.99       958\n",
      "           7       0.98      0.98      0.98      1028\n",
      "           8       0.98      0.97      0.98       974\n",
      "           9       0.98      0.96      0.97      1009\n",
      "\n",
      "    accuracy                           0.98     10000\n",
      "   macro avg       0.98      0.98      0.98     10000\n",
      "weighted avg       0.98      0.98      0.98     10000\n",
      "\n"
     ]
    }
   ],
   "source": [
    "import numpy as np\n",
    "\n",
    "# Use the trained model for predictions of the test data\n",
    "test_labels_pred = network.predict(test_images)\n",
    "\n",
    "# Take the class with the highest probability from the test predictions as a winning one\n",
    "max_test_labels_pred = np.argmax(test_labels_pred, axis=1)\n",
    "max_test_labels = np.argmax(test_labels, axis=1)\n",
    "\n",
    "# Show the confusion matrix of the collected results\n",
    "show_confusion_matrix(max_test_labels, max_test_labels_pred, num_classes=num_classes)\n",
    "\n",
    "# Print classification report\n",
    "print(classification_report(max_test_labels, max_test_labels_pred))"
   ]
  },
  {
   "cell_type": "markdown",
   "metadata": {},
   "source": [
    "# Przykład klasyfikacji binarnej\n",
    "\n",
    "Klasyfikacja binarna (ang. binary classification, inaczej klasyfikacja dwuklasowa) to klasyfikacja, w której model uczy się klasyfikować dane wejściowe do dwóch przeciwnych klas, np. coś jest „dodatnie” lub „ujemne” czy też „poprawne” lub „błędne”.\n",
    "\n",
    "Zademonstrujemy to na problemie klasyfikacji recenzji filmowych na recenzje „pozytywne” i „negatywne”, tylko na podstawie treści (słowa) recenzji.\n",
    "\n",
    "Używamy <a href=\"https://www.kaggle.com/lakshmi25npathi/imdb-dataset-of-50k-movie-reviews\">zbioru danych IMDB</a>, który składa się z 50 000 wysoce spolaryzowanych recenzji z Bazy Filmowej Internetu. Recenzje są one podzielone na 25.000 recenzji do nauki i 25.000 do testów, a każdy z tych zbiorów składa się z 50% negatywnych i 50% pozytywnych recenzji. Tak więc zarówno zbiór uczący, jak i zbiór testowy są bardzo dobrze wyważone, co jest ważne, jak wyjaśnimy w dalszych przykładach, gdzie nieraz będziemy musieli zmagać się z problemem wyważenia zbiorów, np. stosując augmentację danych czy inne sposoby.\n",
    "\n",
    "Dzielimy dane na zbiór uczący i zbiór testowy, aby sprawdzić wydajność wytrenowanego modelu na nowych danych (testowych), które nie były prezentowane w trakcie procesu uczenia (co umożliwia ocenić właściwość uogólniania modelu), ponieważ nawet doskonała poprawność klasyfikacji na danych uczących nie ma żadnej wartości, dopóki nie uzyskamy wysokiej poprawności na danych testowych. Jeśliby nam nie zależało na uogólnianiu, wtedy moglibyśmy po prostu przechowywać powiązania między danymi uczącymi i ich etykietami w bazie danych bez uczenia modelu. Modele sztucznej inteligencji tworzymy zaś po to, by dobrze uogólniały - to jest ta spodziewana inteligencja modelu!\n",
    "\n",
    "Zbiór danych IMDB to kolejny zbiór danych spakowanych i dostępnych z Kerasa. Dane zostały już wstępnie przetworzone: recenzje (ciągi słów) zostały zamienione na ciągi liczb całkowitych, gdzie każda liczba oznacza określone słowo w słowniku.\n",
    "\n",
    "Poniższy kod załaduje zbiór danych (przy pierwszym uruchomieniu na komputer zostanie pobranych około 80 MB danych). W naszym eksperymencie (aby oszacować nasz czas) użyjemy tylko 5000 tysięcy najczęściej występujących słów (`num_top_words=5000`) w danych uczących, więc rzadkie słowa zostaną odrzucone, szczególnie że wytrenowanie modelu na nich nie wiele by wnosiło z punktu widzenia uogólniania:"
   ]
  },
  {
   "cell_type": "code",
   "execution_count": 17,
   "metadata": {},
   "outputs": [],
   "source": [
    "from keras.datasets import imdb\n",
    "\n",
    "num_top_words=5000\n",
    "(train_data, train_labels), (test_data, test_labels) = imdb.load_data(num_words=num_top_words)"
   ]
  },
  {
   "cell_type": "markdown",
   "metadata": {},
   "source": [
    "Zmienne `train_data` i `test_data` to listy recenzji. Każda recenzja to lista indeksów słówn (zakodowany ciąg słów).\n",
    "\n",
    "Zmienne `train_labels` i `test_labels` są listami zer i jedynek, gdzie $0$ oznacza recenzję „negatywną”, a $1$ oznacza „pozytywną”.\n",
    "\n",
    "Spójrzmy na niektóre dane uczące - identyfikatory słów pierwszej recenzji (ponumerowane od 0):"
   ]
  },
  {
   "cell_type": "code",
   "execution_count": 18,
   "metadata": {},
   "outputs": [
    {
     "data": {
      "text/plain": [
       "[1,\n",
       " 14,\n",
       " 22,\n",
       " 16,\n",
       " 43,\n",
       " 530,\n",
       " 973,\n",
       " 1622,\n",
       " 1385,\n",
       " 65,\n",
       " 458,\n",
       " 4468,\n",
       " 66,\n",
       " 3941,\n",
       " 4,\n",
       " 173,\n",
       " 36,\n",
       " 256,\n",
       " 5,\n",
       " 25,\n",
       " 100,\n",
       " 43,\n",
       " 838,\n",
       " 112,\n",
       " 50,\n",
       " 670,\n",
       " 2,\n",
       " 9,\n",
       " 35,\n",
       " 480,\n",
       " 284,\n",
       " 5,\n",
       " 150,\n",
       " 4,\n",
       " 172,\n",
       " 112,\n",
       " 167,\n",
       " 2,\n",
       " 336,\n",
       " 385,\n",
       " 39,\n",
       " 4,\n",
       " 172,\n",
       " 4536,\n",
       " 1111,\n",
       " 17,\n",
       " 546,\n",
       " 38,\n",
       " 13,\n",
       " 447,\n",
       " 4,\n",
       " 192,\n",
       " 50,\n",
       " 16,\n",
       " 6,\n",
       " 147,\n",
       " 2025,\n",
       " 19,\n",
       " 14,\n",
       " 22,\n",
       " 4,\n",
       " 1920,\n",
       " 4613,\n",
       " 469,\n",
       " 4,\n",
       " 22,\n",
       " 71,\n",
       " 87,\n",
       " 12,\n",
       " 16,\n",
       " 43,\n",
       " 530,\n",
       " 38,\n",
       " 76,\n",
       " 15,\n",
       " 13,\n",
       " 1247,\n",
       " 4,\n",
       " 22,\n",
       " 17,\n",
       " 515,\n",
       " 17,\n",
       " 12,\n",
       " 16,\n",
       " 626,\n",
       " 18,\n",
       " 2,\n",
       " 5,\n",
       " 62,\n",
       " 386,\n",
       " 12,\n",
       " 8,\n",
       " 316,\n",
       " 8,\n",
       " 106,\n",
       " 5,\n",
       " 4,\n",
       " 2223,\n",
       " 2,\n",
       " 16,\n",
       " 480,\n",
       " 66,\n",
       " 3785,\n",
       " 33,\n",
       " 4,\n",
       " 130,\n",
       " 12,\n",
       " 16,\n",
       " 38,\n",
       " 619,\n",
       " 5,\n",
       " 25,\n",
       " 124,\n",
       " 51,\n",
       " 36,\n",
       " 135,\n",
       " 48,\n",
       " 25,\n",
       " 1415,\n",
       " 33,\n",
       " 6,\n",
       " 22,\n",
       " 12,\n",
       " 215,\n",
       " 28,\n",
       " 77,\n",
       " 52,\n",
       " 5,\n",
       " 14,\n",
       " 407,\n",
       " 16,\n",
       " 82,\n",
       " 2,\n",
       " 8,\n",
       " 4,\n",
       " 107,\n",
       " 117,\n",
       " 2,\n",
       " 15,\n",
       " 256,\n",
       " 4,\n",
       " 2,\n",
       " 7,\n",
       " 3766,\n",
       " 5,\n",
       " 723,\n",
       " 36,\n",
       " 71,\n",
       " 43,\n",
       " 530,\n",
       " 476,\n",
       " 26,\n",
       " 400,\n",
       " 317,\n",
       " 46,\n",
       " 7,\n",
       " 4,\n",
       " 2,\n",
       " 1029,\n",
       " 13,\n",
       " 104,\n",
       " 88,\n",
       " 4,\n",
       " 381,\n",
       " 15,\n",
       " 297,\n",
       " 98,\n",
       " 32,\n",
       " 2071,\n",
       " 56,\n",
       " 26,\n",
       " 141,\n",
       " 6,\n",
       " 194,\n",
       " 2,\n",
       " 18,\n",
       " 4,\n",
       " 226,\n",
       " 22,\n",
       " 21,\n",
       " 134,\n",
       " 476,\n",
       " 26,\n",
       " 480,\n",
       " 5,\n",
       " 144,\n",
       " 30,\n",
       " 2,\n",
       " 18,\n",
       " 51,\n",
       " 36,\n",
       " 28,\n",
       " 224,\n",
       " 92,\n",
       " 25,\n",
       " 104,\n",
       " 4,\n",
       " 226,\n",
       " 65,\n",
       " 16,\n",
       " 38,\n",
       " 1334,\n",
       " 88,\n",
       " 12,\n",
       " 16,\n",
       " 283,\n",
       " 5,\n",
       " 16,\n",
       " 4472,\n",
       " 113,\n",
       " 103,\n",
       " 32,\n",
       " 15,\n",
       " 16,\n",
       " 2,\n",
       " 19,\n",
       " 178,\n",
       " 32]"
      ]
     },
     "execution_count": 18,
     "metadata": {},
     "output_type": "execute_result"
    }
   ],
   "source": [
    "train_data[0]"
   ]
  },
  {
   "cell_type": "markdown",
   "metadata": {},
   "source": [
    "Ponieważ ograniczyliśmy nasz zbiór danych do 5000 najczęstszych słów, żaden indeks słów nie przekroczy 4999. Sprawdźmy więc maksymalny indeks we wszystkich sekwencjach załadowanego zbioru danych uczących:"
   ]
  },
  {
   "cell_type": "code",
   "execution_count": 19,
   "metadata": {},
   "outputs": [
    {
     "data": {
      "text/plain": [
       "4999"
      ]
     },
     "execution_count": 19,
     "metadata": {},
     "output_type": "execute_result"
    }
   ],
   "source": [
    "max([max(sequence) for sequence in train_data])"
   ]
  },
  {
   "cell_type": "markdown",
   "metadata": {},
   "source": [
    "Możemy rozszyfrować jedną z tych recenzji z powrotem na angielskie słowa:"
   ]
  },
  {
   "cell_type": "code",
   "execution_count": 20,
   "metadata": {},
   "outputs": [
    {
     "name": "stdout",
     "output_type": "stream",
     "text": [
      "? this film was just brilliant casting location scenery story direction everyone's really suited the part they played and you could just imagine being there robert ? is an amazing actor and now the same being director ? father came from the same scottish island as myself so i loved the fact there was a real connection with this film the witty remarks throughout the film were great it was just brilliant so much that i bought the film as soon as it was released for ? and would recommend it to everyone to watch and the fly ? was amazing really cried at the end it was so sad and you know what they say if you cry at a film it must have been good and this definitely was also ? to the two little ? that played the ? of norman and paul they were just brilliant children are often left out of the ? list i think because the stars that play them all grown up are such a big ? for the whole film but these children are amazing and should be ? for what they have done don't you think the whole story was so lovely because it was true and was someone's life after all that was ? with us all\n"
     ]
    }
   ],
   "source": [
    "# set the decoded review id:\n",
    "decoded_review_id = 0  # you can change it to read the other reviews\n",
    "# word_index is a dictionary mapping words to an integer index\n",
    "word_index = imdb.get_word_index()\n",
    "# We reverse it, mapping integer indices to words back\n",
    "reverse_word_index = dict([(value, key) for (key, value) in word_index.items()])\n",
    "# We decode the review; note that our indices were offset by 3\n",
    "# because 0, 1 and 2 are reserved indices for \"padding\", \"start of sequence\", and \"unknown\".\n",
    "decoded_review = ' '.join([reverse_word_index.get(i - 3, '?') for i in train_data[decoded_review_id]])\n",
    "print(decoded_review)"
   ]
  },
  {
   "cell_type": "markdown",
   "metadata": {},
   "source": [
    "## Przygotowanie danych\n",
    "\n",
    "Zwykle musimy przygotować dane przed użyciem ich do trenowania modelu.\n",
    "\n",
    "W tym przypadku musimy przekształcić nasze listy słów w tensory (wielowymiarowe tablice), co możemy zrobić na dwa różne sposoby:\n",
    "* Moglibyśmy uzupełnić nasze listy tak, aby wszystkie miały tę samą długość i przekształcić je w tensor liczb całkowitych o kształcie `(samples, word_indices)`. Następnie używamy ich jako pierwszej warstwy w sieci, która jest w stanie obsłużyć takie tensory liczb całkowitych (warstwa `Embedding`).\n",
    "* Moglibyśmy zakodować nasze listy w trybie one-hot, aby przekształcić je w wektory składające się z samych zer i jedynek. Na przykład, zamieniając ciąg `[3, 5]` na 5000-wymiarowy wektor, który byłby zerami, z wyjątkiem indeksów 3 i 5, gdzie byłyby jedynki. Następnie moglibyśmy użyć jako pierwszej warstwy w naszej sieci warstwy `Dense` zdolnej do obsługi danych wektorowych zmiennoprzecinkowych.\n",
    "\n",
    "Zwektoryzujmy ręcznie nasze dane, aby uzyskać maksymalną przejrzystość:"
   ]
  },
  {
   "cell_type": "code",
   "execution_count": 21,
   "metadata": {},
   "outputs": [],
   "source": [
    "def vectorize_sequences(sequences, dimension=num_top_words):\n",
    "    # Create an all-zero matrix of shape (len(sequences), dimension)\n",
    "    results = np.zeros((len(sequences), dimension))\n",
    "    for i, sequence in enumerate(sequences):\n",
    "        # set specific indices of results[i] to 1s to indicate the words occurring in the sequence\n",
    "        results[i, sequence] = 1.\n",
    "    return results\n",
    "\n",
    "# Our vectorized training data\n",
    "x_train = vectorize_sequences(train_data)\n",
    "# Our vectorized test data\n",
    "x_test = vectorize_sequences(test_data)"
   ]
  },
  {
   "cell_type": "markdown",
   "metadata": {},
   "source": [
    "Spójrzmy na wynik:"
   ]
  },
  {
   "cell_type": "code",
   "execution_count": 22,
   "metadata": {},
   "outputs": [
    {
     "data": {
      "text/plain": [
       "array([0., 1., 1., ..., 0., 0., 0.])"
      ]
     },
     "execution_count": 22,
     "metadata": {},
     "output_type": "execute_result"
    }
   ],
   "source": [
    "x_train[0]"
   ]
  },
  {
   "cell_type": "markdown",
   "metadata": {},
   "source": [
    "Powinniśmy również zwektoryzować nasze etykiety:"
   ]
  },
  {
   "cell_type": "code",
   "execution_count": 23,
   "metadata": {},
   "outputs": [],
   "source": [
    "y_train = np.asarray(train_labels).astype('float32')\n",
    "y_test = np.asarray(test_labels).astype('float32')"
   ]
  },
  {
   "cell_type": "code",
   "execution_count": 24,
   "metadata": {},
   "outputs": [
    {
     "data": {
      "text/plain": [
       "1.0"
      ]
     },
     "execution_count": 24,
     "metadata": {},
     "output_type": "execute_result"
    }
   ],
   "source": [
    "y_train[0]"
   ]
  },
  {
   "cell_type": "markdown",
   "metadata": {},
   "source": [
    "Nasze dane wejściowe to po prostu wektory, a nasze etykiety to skalary (0s i 2s). To najprostsza konfiguracja, z jaką kiedykolwiek się spotkasz."
   ]
  },
  {
   "cell_type": "markdown",
   "metadata": {},
   "source": [
    "## Budowa sieci neuronowej\n",
    "\n",
    "Teraz jesteśmy gotowi do stworzenia i dostarczenia sieci neuronowej przygotowanych danych do nauki, ale jak optymalnie zbudować sieć neuronową? Ile warstw użyć? Ile jednostek w ukrytych warstwach utworzyć? Warstwy ukryte to wszystkie warstwy między wejściową a wyjściową warstwą sieci. W tych warstwach zwykle używamy funkcji „relu” (rektyfikowana jednostka liniowa). W warstwie wyjściowej możemy zastosować funkcję sigmoidalną, której wyjścia znajdują się w przedziale `[0, 1]`, dzięki czemu wyjścia mogą być interpretowane jako prawdopodobieństwo, iż zaprezentowane wejście należy do określonej klasy."
   ]
  },
  {
   "cell_type": "code",
   "execution_count": 25,
   "metadata": {},
   "outputs": [
    {
     "name": "stdout",
     "output_type": "stream",
     "text": [
      "Model: \"sequential_1\"\n",
      "_________________________________________________________________\n",
      " Layer (type)                Output Shape              Param #   \n",
      "=================================================================\n",
      " dense_2 (Dense)             (None, 16)                80016     \n",
      "                                                                 \n",
      " dense_3 (Dense)             (None, 8)                 136       \n",
      "                                                                 \n",
      " dense_4 (Dense)             (None, 1)                 9         \n",
      "                                                                 \n",
      "=================================================================\n",
      "Total params: 80,161\n",
      "Trainable params: 80,161\n",
      "Non-trainable params: 0\n",
      "_________________________________________________________________\n"
     ]
    }
   ],
   "source": [
    "model1 = models.Sequential()\n",
    "model1.add(layers.Dense(16, activation='relu', input_shape=(num_top_words,)))\n",
    "model1.add(layers.Dense(8, activation='relu'))\n",
    "model1.add(layers.Dense(1, activation='sigmoid'))\n",
    "\n",
    "model1.summary()"
   ]
  },
  {
   "cell_type": "markdown",
   "metadata": {},
   "source": [
    "Do klasyfikacji binarnej możemy użyć `binary_crossentropy` jako funkcji straty:"
   ]
  },
  {
   "cell_type": "code",
   "execution_count": 26,
   "metadata": {},
   "outputs": [],
   "source": [
    "from tensorflow.keras import optimizers\n",
    "from tensorflow.keras.optimizers import RMSprop\n",
    "\n",
    "model1.compile(optimizer=optimizers.RMSprop(learning_rate=0.001),   # 'rmsprop'\n",
    "               loss='binary_crossentropy',\n",
    "               metrics=['accuracy'])"
   ]
  },
  {
   "cell_type": "markdown",
   "metadata": {},
   "source": [
    "## Zbieranie danych o wydajności oraz walidacja modelu\n",
    "\n",
    "Do walidacji modelu powinniśmy zadbać o wydzielenie podzbioru danych testowych, które nigdy nie będą wykorzystywane podczas uczenia:"
   ]
  },
  {
   "cell_type": "code",
   "execution_count": 27,
   "metadata": {},
   "outputs": [],
   "source": [
    "x_val = x_train[:num_top_words]\n",
    "partial_x_train = x_train[num_top_words:]\n",
    "\n",
    "y_val = y_train[:num_top_words]\n",
    "partial_y_train = y_train[num_top_words:]"
   ]
  },
  {
   "cell_type": "markdown",
   "metadata": {},
   "source": [
    "Nauczmy więc nasz model i zbierzmy tymczasowe wyniki w obiekcie `History`, aby później narysować wykres:"
   ]
  },
  {
   "cell_type": "code",
   "execution_count": 28,
   "metadata": {},
   "outputs": [
    {
     "name": "stdout",
     "output_type": "stream",
     "text": [
      "Epoch 1/20\n",
      "79/79 [==============================] - 1s 8ms/step - loss: 0.4689 - accuracy: 0.8133 - val_loss: 0.3465 - val_accuracy: 0.8740\n",
      "Epoch 2/20\n",
      "79/79 [==============================] - 1s 7ms/step - loss: 0.2823 - accuracy: 0.8979 - val_loss: 0.2826 - val_accuracy: 0.8878\n",
      "Epoch 3/20\n",
      "79/79 [==============================] - 1s 7ms/step - loss: 0.2271 - accuracy: 0.9172 - val_loss: 0.2918 - val_accuracy: 0.8820\n",
      "Epoch 4/20\n",
      "79/79 [==============================] - 0s 6ms/step - loss: 0.1985 - accuracy: 0.9281 - val_loss: 0.2784 - val_accuracy: 0.8922\n",
      "Epoch 5/20\n",
      "79/79 [==============================] - 0s 4ms/step - loss: 0.1783 - accuracy: 0.9337 - val_loss: 0.2984 - val_accuracy: 0.8890\n",
      "Epoch 6/20\n",
      "79/79 [==============================] - 0s 3ms/step - loss: 0.1622 - accuracy: 0.9410 - val_loss: 0.3105 - val_accuracy: 0.8794\n",
      "Epoch 7/20\n",
      "79/79 [==============================] - 0s 4ms/step - loss: 0.1491 - accuracy: 0.9463 - val_loss: 0.3482 - val_accuracy: 0.8696\n",
      "Epoch 8/20\n",
      "79/79 [==============================] - 0s 3ms/step - loss: 0.1373 - accuracy: 0.9510 - val_loss: 0.3277 - val_accuracy: 0.8826\n",
      "Epoch 9/20\n",
      "79/79 [==============================] - 0s 4ms/step - loss: 0.1252 - accuracy: 0.9559 - val_loss: 0.3601 - val_accuracy: 0.8746\n",
      "Epoch 10/20\n",
      "79/79 [==============================] - 0s 4ms/step - loss: 0.1142 - accuracy: 0.9602 - val_loss: 0.3594 - val_accuracy: 0.8768\n",
      "Epoch 11/20\n",
      "79/79 [==============================] - 0s 4ms/step - loss: 0.1037 - accuracy: 0.9634 - val_loss: 0.3912 - val_accuracy: 0.8698\n",
      "Epoch 12/20\n",
      "79/79 [==============================] - 0s 4ms/step - loss: 0.0926 - accuracy: 0.9691 - val_loss: 0.4171 - val_accuracy: 0.8658\n",
      "Epoch 13/20\n",
      "79/79 [==============================] - 0s 4ms/step - loss: 0.0832 - accuracy: 0.9733 - val_loss: 0.4178 - val_accuracy: 0.8682\n",
      "Epoch 14/20\n",
      "79/79 [==============================] - 0s 4ms/step - loss: 0.0737 - accuracy: 0.9775 - val_loss: 0.4808 - val_accuracy: 0.8608\n",
      "Epoch 15/20\n",
      "79/79 [==============================] - 0s 4ms/step - loss: 0.0659 - accuracy: 0.9800 - val_loss: 0.4549 - val_accuracy: 0.8672\n",
      "Epoch 16/20\n",
      "79/79 [==============================] - 0s 4ms/step - loss: 0.0558 - accuracy: 0.9827 - val_loss: 0.4752 - val_accuracy: 0.8680\n",
      "Epoch 17/20\n",
      "79/79 [==============================] - 0s 5ms/step - loss: 0.0490 - accuracy: 0.9865 - val_loss: 0.5079 - val_accuracy: 0.8684\n",
      "Epoch 18/20\n",
      "79/79 [==============================] - 0s 4ms/step - loss: 0.0403 - accuracy: 0.9902 - val_loss: 0.5641 - val_accuracy: 0.8606\n",
      "Epoch 19/20\n",
      "79/79 [==============================] - 0s 4ms/step - loss: 0.0344 - accuracy: 0.9923 - val_loss: 0.6122 - val_accuracy: 0.8600\n",
      "Epoch 20/20\n",
      "79/79 [==============================] - 0s 4ms/step - loss: 0.0274 - accuracy: 0.9940 - val_loss: 0.6079 - val_accuracy: 0.8638\n"
     ]
    }
   ],
   "source": [
    "history1 = model1.fit(partial_x_train,\n",
    "                      partial_y_train,\n",
    "                      epochs=20,\n",
    "                      batch_size=256,\n",
    "                      validation_data=(x_val, y_val))"
   ]
  },
  {
   "cell_type": "markdown",
   "metadata": {},
   "source": [
    "Jakie wyniki są przechowywane w obiekcie `History`?"
   ]
  },
  {
   "cell_type": "code",
   "execution_count": 29,
   "metadata": {},
   "outputs": [
    {
     "data": {
      "text/plain": [
       "dict_keys(['loss', 'accuracy', 'val_loss', 'val_accuracy'])"
      ]
     },
     "execution_count": 29,
     "metadata": {},
     "output_type": "execute_result"
    }
   ],
   "source": [
    "history1_dict = history1.history\n",
    "history1_dict.keys()"
   ]
  },
  {
   "cell_type": "markdown",
   "metadata": {},
   "source": [
    "Przyjrzyjmy się, jak zmieniają się straty (`loss`) i dokładność (`accuracy`) dla danych treningowych i testowych podczas treningu sieci:"
   ]
  },
  {
   "cell_type": "code",
   "execution_count": 30,
   "metadata": {},
   "outputs": [],
   "source": [
    "def PlotLossComparison():\n",
    "    plt.clf()   # clear figure\n",
    "    #loss = history1_dict['loss']\n",
    "    #val_loss = history1_dict['val_loss']\n",
    "    epochs = range(len(loss1))\n",
    "    # \"bo\" is for \"blue dot\"\n",
    "    plt.plot(epochs, loss1, 'bo', label='Training loss')\n",
    "    # b is for \"solid red line\"\n",
    "    plt.plot(epochs, val_loss1, 'b', label='Validation loss')\n",
    "    plt.title('Training and validation loss')\n",
    "    plt.xlabel('Epochs')\n",
    "    plt.ylabel('Loss')\n",
    "    plt.legend()\n",
    "    plt.show()"
   ]
  },
  {
   "cell_type": "code",
   "execution_count": 31,
   "metadata": {},
   "outputs": [
    {
     "data": {
      "image/png": "[encoded data removed]",
      "text/plain": [
       "<Figure size 1080x360 with 1 Axes>"
      ]
     },
     "metadata": {
      "needs_background": "light"
     },
     "output_type": "display_data"
    }
   ],
   "source": [
    "loss1 = history1_dict['loss']\n",
    "val_loss1 = history1_dict['val_loss']\n",
    "\n",
    "PlotLossComparison()"
   ]
  },
  {
   "cell_type": "code",
   "execution_count": 32,
   "metadata": {},
   "outputs": [],
   "source": [
    "def PlotAccuracyComparison():\n",
    "    plt.clf()   # clear figure\n",
    "    #acc = history1_dict['accuracy']\n",
    "    #val_acc = history1_dict['val_accuracy']\n",
    "    epochs = range(len(acc1))\n",
    "    plt.plot(epochs, acc1, 'bo', label='Training accuracy')\n",
    "    plt.plot(epochs, val_acc1, 'b', label='Validation accuracy')\n",
    "    plt.title('Training and validation accuracy')\n",
    "    plt.xlabel('Epochs')\n",
    "    plt.ylabel('Accuracy')\n",
    "    plt.legend()\n",
    "    plt.show()"
   ]
  },
  {
   "cell_type": "code",
   "execution_count": 33,
   "metadata": {},
   "outputs": [
    {
     "data": {
      "image/png": "[encoded data removed]",
      "text/plain": [
       "<Figure size 1080x360 with 1 Axes>"
      ]
     },
     "metadata": {
      "needs_background": "light"
     },
     "output_type": "display_data"
    }
   ],
   "source": [
    "acc1 = history1_dict['accuracy']\n",
    "val_acc1 = history1_dict['val_accuracy']\n",
    "\n",
    "PlotAccuracyComparison()"
   ]
  },
  {
   "cell_type": "markdown",
   "metadata": {},
   "source": [
    "## Zbytnie dopasowanie modelu do danych uczących (overfitting)\n",
    "\n",
    "Z przedstawionych wykresów wynika, że nasz model zaczyna się zbytnio dopasowywać do danych uczących już trzeciej epoce treningowej. Mówimy, że ma dużą wariancję. Strata treningowa spada, a dokładność treningu wzrasta, strata walidacyjna rośnie, a dokładność walidacyjna spada.\n",
    "\n",
    "Oznacza to, że nasz model nie jest wystarczająco dobry dla tego zbioru danych. Projektant powinien być w stanie poradzić sobie z takimi problemami i zrekonstruować model tak, aby jak najbardziej zmniejszyć wariancję, osiągając dobrą właściwość uogólniania modelu. W odwrotnym przypadku model będzie bezużyteczny!\n",
    "\n",
    "Co możemy zrobić, aby zwiększyć wydajność modelu na danych walidacyjnych?\n",
    "\n",
    "Spróbuj użyć:\n",
    "* mniej (1) lub więcej (3 lub 4) warstw ukrytych;\n",
    "* w warstwach zmniejsz lub zwiększ liczbę jednostek ukrytych (neuronów), np.: 16, 32 lub 64 jednostki;\n",
    "* innej funkcji straty `mse` zamiast `binary_crossentropy`;\n",
    "* innej funkcji aktywacji, np. `tanh` lub `elu` zamiast `relu`;\n",
    "* zwiększ liczbę danych treningowych;\n",
    "i zobacz, jak wpływa to na walidację i dokładność testów.\n",
    "\n",
    "Wykonaj te zmiany osobno, aby zauważyć, która zmiana (którego hiperparametru) poprawia wyniki, a która wręcz przeciwnie go psuje?"
   ]
  },
  {
   "cell_type": "code",
   "execution_count": 34,
   "metadata": {},
   "outputs": [
    {
     "name": "stdout",
     "output_type": "stream",
     "text": [
      "Model: \"sequential_2\"\n",
      "_________________________________________________________________\n",
      " Layer (type)                Output Shape              Param #   \n",
      "=================================================================\n",
      " dense_5 (Dense)             (None, 8)                 40008     \n",
      "                                                                 \n",
      " dense_6 (Dense)             (None, 8)                 72        \n",
      "                                                                 \n",
      " dense_7 (Dense)             (None, 1)                 9         \n",
      "                                                                 \n",
      "=================================================================\n",
      "Total params: 40,089\n",
      "Trainable params: 40,089\n",
      "Non-trainable params: 0\n",
      "_________________________________________________________________\n"
     ]
    }
   ],
   "source": [
    "model2 = models.Sequential()\n",
    "model2.add(layers.Dense(8, activation='relu', input_shape=(num_top_words,)))\n",
    "model2.add(layers.Dense(8, activation='relu'))\n",
    "model2.add(layers.Dense(1, activation='sigmoid'))\n",
    "\n",
    "model2.summary()"
   ]
  },
  {
   "cell_type": "code",
   "execution_count": 35,
   "metadata": {},
   "outputs": [],
   "source": [
    "model2.compile(optimizer=optimizers.RMSprop(learning_rate=0.001),   # 'rmsprop'\n",
    "               loss='binary_crossentropy',\n",
    "               metrics=['accuracy'])"
   ]
  },
  {
   "cell_type": "code",
   "execution_count": 36,
   "metadata": {},
   "outputs": [
    {
     "name": "stdout",
     "output_type": "stream",
     "text": [
      "Epoch 1/20\n",
      "79/79 [==============================] - 1s 6ms/step - loss: 0.4687 - accuracy: 0.8086 - val_loss: 0.3384 - val_accuracy: 0.8732\n",
      "Epoch 2/20\n",
      "79/79 [==============================] - 0s 4ms/step - loss: 0.2755 - accuracy: 0.8976 - val_loss: 0.2832 - val_accuracy: 0.8874\n",
      "Epoch 3/20\n",
      "79/79 [==============================] - 0s 3ms/step - loss: 0.2233 - accuracy: 0.9159 - val_loss: 0.3094 - val_accuracy: 0.8744\n",
      "Epoch 4/20\n",
      "79/79 [==============================] - 0s 4ms/step - loss: 0.1975 - accuracy: 0.9256 - val_loss: 0.2987 - val_accuracy: 0.8888\n",
      "Epoch 5/20\n",
      "79/79 [==============================] - 0s 4ms/step - loss: 0.1798 - accuracy: 0.9331 - val_loss: 0.3346 - val_accuracy: 0.8658\n",
      "Epoch 6/20\n",
      "79/79 [==============================] - 0s 4ms/step - loss: 0.1679 - accuracy: 0.9381 - val_loss: 0.3218 - val_accuracy: 0.8820\n",
      "Epoch 7/20\n",
      "79/79 [==============================] - 0s 4ms/step - loss: 0.1577 - accuracy: 0.9413 - val_loss: 0.3239 - val_accuracy: 0.8794\n",
      "Epoch 8/20\n",
      "79/79 [==============================] - 0s 5ms/step - loss: 0.1495 - accuracy: 0.9438 - val_loss: 0.3392 - val_accuracy: 0.8766\n",
      "Epoch 9/20\n",
      "79/79 [==============================] - 0s 4ms/step - loss: 0.1426 - accuracy: 0.9469 - val_loss: 0.3580 - val_accuracy: 0.8722\n",
      "Epoch 10/20\n",
      "79/79 [==============================] - 0s 3ms/step - loss: 0.1355 - accuracy: 0.9496 - val_loss: 0.3718 - val_accuracy: 0.8730\n",
      "Epoch 11/20\n",
      "79/79 [==============================] - 0s 3ms/step - loss: 0.1311 - accuracy: 0.9511 - val_loss: 0.4025 - val_accuracy: 0.8660\n",
      "Epoch 12/20\n",
      "79/79 [==============================] - 0s 3ms/step - loss: 0.1245 - accuracy: 0.9546 - val_loss: 0.4321 - val_accuracy: 0.8674\n",
      "Epoch 13/20\n",
      "79/79 [==============================] - 0s 3ms/step - loss: 0.1181 - accuracy: 0.9571 - val_loss: 0.4174 - val_accuracy: 0.8682\n",
      "Epoch 14/20\n",
      "79/79 [==============================] - 0s 3ms/step - loss: 0.1138 - accuracy: 0.9590 - val_loss: 0.4740 - val_accuracy: 0.8644\n",
      "Epoch 15/20\n",
      "79/79 [==============================] - 0s 3ms/step - loss: 0.1090 - accuracy: 0.9596 - val_loss: 0.4478 - val_accuracy: 0.8686\n",
      "Epoch 16/20\n",
      "79/79 [==============================] - 0s 3ms/step - loss: 0.1060 - accuracy: 0.9616 - val_loss: 0.4741 - val_accuracy: 0.8630\n",
      "Epoch 17/20\n",
      "79/79 [==============================] - 0s 3ms/step - loss: 0.1007 - accuracy: 0.9637 - val_loss: 0.4778 - val_accuracy: 0.8642\n",
      "Epoch 18/20\n",
      "79/79 [==============================] - 0s 3ms/step - loss: 0.0974 - accuracy: 0.9650 - val_loss: 0.5082 - val_accuracy: 0.8634\n",
      "Epoch 19/20\n",
      "79/79 [==============================] - 0s 3ms/step - loss: 0.0910 - accuracy: 0.9682 - val_loss: 0.5175 - val_accuracy: 0.8654\n",
      "Epoch 20/20\n",
      "79/79 [==============================] - 0s 3ms/step - loss: 0.0883 - accuracy: 0.9688 - val_loss: 0.5309 - val_accuracy: 0.8602\n"
     ]
    },
    {
     "data": {
      "text/plain": [
       "dict_keys(['loss', 'accuracy', 'val_loss', 'val_accuracy'])"
      ]
     },
     "execution_count": 36,
     "metadata": {},
     "output_type": "execute_result"
    }
   ],
   "source": [
    "history2 = model2.fit(partial_x_train,\n",
    "                      partial_y_train,\n",
    "                      epochs=20,\n",
    "                      batch_size=256,\n",
    "                      validation_data=(x_val, y_val))\n",
    "history2_dict = history2.history\n",
    "history2_dict.keys()"
   ]
  },
  {
   "cell_type": "code",
   "execution_count": 37,
   "metadata": {},
   "outputs": [],
   "source": [
    "def PlotTwoLossComparison():\n",
    "    plt.clf()   # clear figure\n",
    "    epochs = range(len(loss1))\n",
    "    plt.plot(epochs, loss1, 'bo', label='Training loss 1')\n",
    "    plt.plot(epochs, loss2, 'ro', label='Training loss 2')\n",
    "    plt.plot(epochs, val_loss1, 'b', label='Validation loss 1')\n",
    "    plt.plot(epochs, val_loss2, 'r', label='Validation loss 2')\n",
    "    plt.title('Training and validation loss comparison')\n",
    "    plt.xlabel('Epochs')\n",
    "    plt.ylabel('Loss')\n",
    "    plt.legend()\n",
    "    plt.show()"
   ]
  },
  {
   "cell_type": "code",
   "execution_count": 38,
   "metadata": {},
   "outputs": [
    {
     "data": {
      "image/png": "[encoded data removed]",
      "text/plain": [
       "<Figure size 1080x360 with 1 Axes>"
      ]
     },
     "metadata": {
      "needs_background": "light"
     },
     "output_type": "display_data"
    }
   ],
   "source": [
    "#loss1 = history1_dict['loss']\n",
    "loss2 = history2_dict['loss']\n",
    "#val_loss1 = history1_dict['val_loss']\n",
    "val_loss2 = history2_dict['val_loss']\n",
    "\n",
    "PlotTwoLossComparison()"
   ]
  },
  {
   "cell_type": "code",
   "execution_count": 39,
   "metadata": {},
   "outputs": [],
   "source": [
    "def PlotTwoAccuracyComparison():\n",
    "    plt.clf()   # clear figure\n",
    "    #acc = history1_dict['accuracy']\n",
    "    #val_acc = history1_dict['val_accuracy']\n",
    "    epochs = range(len(acc1))\n",
    "    plt.plot(epochs, acc1, 'bo', label='Training accuracy')\n",
    "    plt.plot(epochs, val_acc1, 'b', label='Validation accuracy')\n",
    "    plt.title('Training and validation accuracy')\n",
    "    plt.xlabel('Epochs')\n",
    "    plt.ylabel('Accuracy')\n",
    "    plt.legend()\n",
    "    plt.show()"
   ]
  },
  {
   "cell_type": "code",
   "execution_count": 40,
   "metadata": {},
   "outputs": [
    {
     "data": {
      "image/png": "[encoded data removed]",
      "text/plain": [
       "<Figure size 1080x360 with 1 Axes>"
      ]
     },
     "metadata": {
      "needs_background": "light"
     },
     "output_type": "display_data"
    }
   ],
   "source": [
    "acc2 = history2_dict['accuracy']\n",
    "val_acc2 = history2_dict['val_accuracy']\n",
    "\n",
    "PlotTwoAccuracyComparison()"
   ]
  },
  {
   "cell_type": "markdown",
   "metadata": {},
   "source": [
    "### Zadanie:\n",
    "\n",
    "Wyciągnij wnioski na temat zmian w hiperparametrach i spróbuj zbudować modele, które działają lepiej niż ten pierwszy!"
   ]
  },
  {
   "cell_type": "markdown",
   "metadata": {},
   "source": [
    "# Przykłady klasyfikacji wieloklasowej i wieloetykietowej\n",
    "\n",
    "Klasyfikacja wieloklasowa to klasyfikacja, w której model uczy się klasyfikować dane wejściowe na więcej niż dwie klasy, tak jak w przypadku dziesięciu klas zbioru danych MNIST, z którym wcześniej pracowaliśmy. Tutaj spróbujemy zaklasyfikować dane wejściowe (data point) tylko do jednej kategorii (klasy). Ten problem jest konkretniej przykładem <b>klasyfikacji wieloklasowej (multi-class classification)</b>. Z drugiej strony, gdyby każdy punkt danych mógł należeć do wielu kategorii, mielibyśmy problem z <b>klasyfikacją wieloetykietową (multi-label classification)</b>."
   ]
  },
  {
   "cell_type": "markdown",
   "metadata": {},
   "source": [
    "## Zbiór danych Reuters\n",
    "\n",
    "Będziemy pracować z zestawem danych Reuters, czyli zestawem krótkich wiadomości tesktowych i ich tematów, opublikowanym przez Reuters w 1986 roku. Jest to bardzo prosty, szeroko stosowany zestaw danych do klasyfikacji tekstu. Jest 46 różnych tematów. Niektóre tematy są reprezentowane częściej niż inne, ale każdy temat zawiera co najmniej 10 przykładów w zbiorze uczącym.\n",
    "\n",
    "Rzućmy okiem na ten zbiór danych łatwo dostępny z poziomu Kerasa. Ograniczymy również dane do 5000 najczęściej występujących słów."
   ]
  },
  {
   "cell_type": "code",
   "execution_count": 41,
   "metadata": {},
   "outputs": [],
   "source": [
    "from keras.datasets import reuters\n",
    "\n",
    "num_top_words=5000\n",
    "(train_data, train_labels), (test_data, test_labels) = reuters.load_data(num_words=num_top_words)\n",
    "no_classes = 46"
   ]
  },
  {
   "cell_type": "markdown",
   "metadata": {},
   "source": [
    "Mamy 8982 przykłady treningowe i 2246 przykłady testowe:"
   ]
  },
  {
   "cell_type": "code",
   "execution_count": 42,
   "metadata": {},
   "outputs": [
    {
     "data": {
      "text/plain": [
       "8982"
      ]
     },
     "execution_count": 42,
     "metadata": {},
     "output_type": "execute_result"
    }
   ],
   "source": [
    "len(train_data)"
   ]
  },
  {
   "cell_type": "code",
   "execution_count": 43,
   "metadata": {},
   "outputs": [
    {
     "data": {
      "text/plain": [
       "2246"
      ]
     },
     "execution_count": 43,
     "metadata": {},
     "output_type": "execute_result"
    }
   ],
   "source": [
    "len(test_data)"
   ]
  },
  {
   "cell_type": "markdown",
   "metadata": {},
   "source": [
    "Każdy przykład to lista liczb całkowitych (indeksy słów), np.:"
   ]
  },
  {
   "cell_type": "code",
   "execution_count": 44,
   "metadata": {},
   "outputs": [
    {
     "data": {
      "text/plain": [
       "[1,\n",
       " 2,\n",
       " 2,\n",
       " 8,\n",
       " 43,\n",
       " 10,\n",
       " 447,\n",
       " 5,\n",
       " 25,\n",
       " 207,\n",
       " 270,\n",
       " 5,\n",
       " 3095,\n",
       " 111,\n",
       " 16,\n",
       " 369,\n",
       " 186,\n",
       " 90,\n",
       " 67,\n",
       " 7,\n",
       " 89,\n",
       " 5,\n",
       " 19,\n",
       " 102,\n",
       " 6,\n",
       " 19,\n",
       " 124,\n",
       " 15,\n",
       " 90,\n",
       " 67,\n",
       " 84,\n",
       " 22,\n",
       " 482,\n",
       " 26,\n",
       " 7,\n",
       " 48,\n",
       " 4,\n",
       " 49,\n",
       " 8,\n",
       " 864,\n",
       " 39,\n",
       " 209,\n",
       " 154,\n",
       " 6,\n",
       " 151,\n",
       " 6,\n",
       " 83,\n",
       " 11,\n",
       " 15,\n",
       " 22,\n",
       " 155,\n",
       " 11,\n",
       " 15,\n",
       " 7,\n",
       " 48,\n",
       " 9,\n",
       " 4579,\n",
       " 1005,\n",
       " 504,\n",
       " 6,\n",
       " 258,\n",
       " 6,\n",
       " 272,\n",
       " 11,\n",
       " 15,\n",
       " 22,\n",
       " 134,\n",
       " 44,\n",
       " 11,\n",
       " 15,\n",
       " 16,\n",
       " 8,\n",
       " 197,\n",
       " 1245,\n",
       " 90,\n",
       " 67,\n",
       " 52,\n",
       " 29,\n",
       " 209,\n",
       " 30,\n",
       " 32,\n",
       " 132,\n",
       " 6,\n",
       " 109,\n",
       " 15,\n",
       " 17,\n",
       " 12]"
      ]
     },
     "execution_count": 44,
     "metadata": {},
     "output_type": "execute_result"
    }
   ],
   "source": [
    "train_data[0]"
   ]
  },
  {
   "cell_type": "markdown",
   "metadata": {},
   "source": [
    "Spójrzmy na przykładowy `newswire`, zamieniając (dekodując) go z powrotem na słowa:"
   ]
  },
  {
   "cell_type": "code",
   "execution_count": 45,
   "metadata": {},
   "outputs": [
    {
     "name": "stdout",
     "output_type": "stream",
     "text": [
      "? ? ? said as a result of its december acquisition of space co it expects earnings per share in 1987 of 1 15 to 1 30 dlrs per share up from 70 cts in 1986 the company said pretax net should rise to nine to 10 mln dlrs from six mln dlrs in 1986 and rental operation revenues to 19 to 22 mln dlrs from 12 5 mln dlrs it said cash flow per share this year should be 2 50 to three dlrs reuter 3\n",
      "The class label associated with this example is:  3\n"
     ]
    }
   ],
   "source": [
    "# set the decoded newswire id:\n",
    "decoded_newswire_id = 0  # you can change it to read the other newswires\n",
    "# word_index is a dictionary mapping words to an integer index\n",
    "word_index = reuters.get_word_index()\n",
    "# We reverse it, mapping integer indices to words back\n",
    "reverse_word_index = dict([(value, key) for (key, value) in word_index.items()])\n",
    "# Note that our indices were offset by 3\n",
    "# because 0, 1 and 2 are reserved indices for \"padding\", \"start of sequence\", and \"unknown\".\n",
    "decoded_newswire = ' '.join([reverse_word_index.get(i - 3, '?') for i in train_data[decoded_newswire_id]])\n",
    "print(decoded_newswire)\n",
    "print(\"The class label associated with this example is: \", train_labels[decoded_newswire_id])"
   ]
  },
  {
   "cell_type": "markdown",
   "metadata": {},
   "source": [
    "## Przygotowanie danych\n",
    "\n",
    "Zwektoryzujmy dane dokładnie tym samym kodem (używając `vectorize_sequences`), jaki stosowaliśmy w naszym poprzednim przykładzie. używamy kodowania „one-hot”, które jest szeroko stosowanym formatem danych kategorycznych, zwanym również „kodowaniem kategorycznym”."
   ]
  },
  {
   "cell_type": "code",
   "execution_count": 46,
   "metadata": {},
   "outputs": [],
   "source": [
    "# Our vectorized training data\n",
    "x_train = vectorize_sequences(train_data)\n",
    "# Our vectorized test data\n",
    "x_test = vectorize_sequences(test_data)"
   ]
  },
  {
   "cell_type": "markdown",
   "metadata": {},
   "source": [
    "W naszym przypadku kodowanie `one-hot` naszych etykiet polega na osadzeniu każdej etykiety jako wektora zer z jedną jedynką w miejscu indeksu etykiety, np.:"
   ]
  },
  {
   "cell_type": "code",
   "execution_count": 47,
   "metadata": {},
   "outputs": [],
   "source": [
    "def to_one_hot(labels, dimension=no_classes):\n",
    "    results = np.zeros((len(labels), dimension))\n",
    "    for i, label in enumerate(labels):\n",
    "        results[i, label] = 1.\n",
    "    return results\n",
    "\n",
    "# Our vectorized training labels\n",
    "one_hot_train_labels = to_one_hot(train_labels)\n",
    "# Our vectorized test labels\n",
    "one_hot_test_labels = to_one_hot(test_labels)"
   ]
  },
  {
   "cell_type": "markdown",
   "metadata": {},
   "source": [
    "W takim przypadku zwykle użyjemy wbudowanej metody Keras, która robi to samo:"
   ]
  },
  {
   "cell_type": "code",
   "execution_count": 48,
   "metadata": {},
   "outputs": [],
   "source": [
    "from keras.utils.np_utils import to_categorical\n",
    "\n",
    "one_hot_train_labels = to_categorical(train_labels)\n",
    "one_hot_test_labels = to_categorical(test_labels)"
   ]
  },
  {
   "cell_type": "markdown",
   "metadata": {},
   "source": [
    "## Budowa modelu sieci\n",
    "\n",
    "W tym zadaniu klasyfikacyjnym liczba klas wyjściowych wzrosła z 2 do 46, czyli wymiarowość przestrzeni wyjściowej jest znacznie większa.\n",
    "\n",
    "Aby uniknąć „wąskiego gardła informacyjnego” przy rozróżnianiu 46 klas, powinniśmy używać więcej jednostek ukrytych w warstwach oraz więcej warstw:"
   ]
  },
  {
   "cell_type": "code",
   "execution_count": 49,
   "metadata": {},
   "outputs": [
    {
     "name": "stdout",
     "output_type": "stream",
     "text": [
      "Model: \"sequential_3\"\n",
      "_________________________________________________________________\n",
      " Layer (type)                Output Shape              Param #   \n",
      "=================================================================\n",
      " dense_8 (Dense)             (None, 64)                320064    \n",
      "                                                                 \n",
      " dense_9 (Dense)             (None, 32)                2080      \n",
      "                                                                 \n",
      " dense_10 (Dense)            (None, 46)                1518      \n",
      "                                                                 \n",
      "=================================================================\n",
      "Total params: 323,662\n",
      "Trainable params: 323,662\n",
      "Non-trainable params: 0\n",
      "_________________________________________________________________\n"
     ]
    }
   ],
   "source": [
    "model = models.Sequential()\n",
    "model.add(layers.Dense(64, activation='relu', input_shape=(num_top_words,)))\n",
    "model.add(layers.Dense(32, activation='relu'))\n",
    "model.add(layers.Dense(no_classes, activation='softmax'))\n",
    "\n",
    "model.summary()"
   ]
  },
  {
   "cell_type": "markdown",
   "metadata": {},
   "source": [
    "Zamiast używać `binary_crossentropy`, użyjemy `categorical_crossentropy`, która mierzy odległość między dwoma rozkładami prawdopodobieństwa:\n",
    "* wynikiem rozkładu prawdopodobieństwa naszej sieci oraz\n",
    "* prawdziwą dystrybucją etykiet.\n",
    "\n",
    "Minimalizując odległość między tymi dwoma rozkładami, uczymy nasz model, aby wyprowadzał coś jak najbardziej zbliżonego do prawdziwych etykiet (co nazywamy prawdą fundamentalną (ground truth))."
   ]
  },
  {
   "cell_type": "code",
   "execution_count": 50,
   "metadata": {},
   "outputs": [],
   "source": [
    "model.compile(optimizer='rmsprop',\n",
    "              loss='categorical_crossentropy',\n",
    "              metrics=['accuracy'])"
   ]
  },
  {
   "cell_type": "markdown",
   "metadata": {},
   "source": [
    "Oddzielmy 1000 próbek naszych danych od treningowych i użyjmy ich jako zestawu walidacyjnego:"
   ]
  },
  {
   "cell_type": "code",
   "execution_count": 51,
   "metadata": {},
   "outputs": [],
   "source": [
    "x_val = x_train[:1000]\n",
    "partial_x_train = x_train[1000:]\n",
    "\n",
    "y_val = one_hot_train_labels[:1000]\n",
    "partial_y_train = one_hot_train_labels[1000:]"
   ]
  },
  {
   "cell_type": "markdown",
   "metadata": {},
   "source": [
    "Teraz wytrenujmy nasz model dla 20 epok:"
   ]
  },
  {
   "cell_type": "code",
   "execution_count": 52,
   "metadata": {},
   "outputs": [
    {
     "name": "stdout",
     "output_type": "stream",
     "text": [
      "Epoch 1/20\n",
      "32/32 [==============================] - 1s 12ms/step - loss: 2.2400 - accuracy: 0.5692 - val_loss: 1.4833 - val_accuracy: 0.6660\n",
      "Epoch 2/20\n",
      "32/32 [==============================] - 0s 7ms/step - loss: 1.2572 - accuracy: 0.7263 - val_loss: 1.1888 - val_accuracy: 0.7340\n",
      "Epoch 3/20\n",
      "32/32 [==============================] - 0s 7ms/step - loss: 0.9558 - accuracy: 0.7925 - val_loss: 1.0711 - val_accuracy: 0.7730\n",
      "Epoch 4/20\n",
      "32/32 [==============================] - 0s 7ms/step - loss: 0.7538 - accuracy: 0.8366 - val_loss: 0.9990 - val_accuracy: 0.7870\n",
      "Epoch 5/20\n",
      "32/32 [==============================] - 0s 6ms/step - loss: 0.5995 - accuracy: 0.8682 - val_loss: 0.9404 - val_accuracy: 0.8000\n",
      "Epoch 6/20\n",
      "32/32 [==============================] - 0s 6ms/step - loss: 0.4800 - accuracy: 0.8959 - val_loss: 0.9240 - val_accuracy: 0.8110\n",
      "Epoch 7/20\n",
      "32/32 [==============================] - 0s 6ms/step - loss: 0.3882 - accuracy: 0.9163 - val_loss: 1.0343 - val_accuracy: 0.7690\n",
      "Epoch 8/20\n",
      "32/32 [==============================] - 0s 7ms/step - loss: 0.3211 - accuracy: 0.9302 - val_loss: 1.0018 - val_accuracy: 0.7870\n",
      "Epoch 9/20\n",
      "32/32 [==============================] - 0s 6ms/step - loss: 0.2682 - accuracy: 0.9401 - val_loss: 0.9725 - val_accuracy: 0.8080\n",
      "Epoch 10/20\n",
      "32/32 [==============================] - 0s 6ms/step - loss: 0.2313 - accuracy: 0.9460 - val_loss: 0.9655 - val_accuracy: 0.8110\n",
      "Epoch 11/20\n",
      "32/32 [==============================] - 0s 6ms/step - loss: 0.2027 - accuracy: 0.9459 - val_loss: 0.9695 - val_accuracy: 0.8000\n",
      "Epoch 12/20\n",
      "32/32 [==============================] - 0s 6ms/step - loss: 0.1811 - accuracy: 0.9514 - val_loss: 1.0547 - val_accuracy: 0.8010\n",
      "Epoch 13/20\n",
      "32/32 [==============================] - 0s 9ms/step - loss: 0.1658 - accuracy: 0.9534 - val_loss: 1.0211 - val_accuracy: 0.8020\n",
      "Epoch 14/20\n",
      "32/32 [==============================] - 0s 9ms/step - loss: 0.1499 - accuracy: 0.9555 - val_loss: 1.0652 - val_accuracy: 0.8020\n",
      "Epoch 15/20\n",
      "32/32 [==============================] - 0s 8ms/step - loss: 0.1423 - accuracy: 0.9565 - val_loss: 1.0634 - val_accuracy: 0.7960\n",
      "Epoch 16/20\n",
      "32/32 [==============================] - 0s 6ms/step - loss: 0.1363 - accuracy: 0.9560 - val_loss: 1.1100 - val_accuracy: 0.7870\n",
      "Epoch 17/20\n",
      "32/32 [==============================] - 0s 8ms/step - loss: 0.1305 - accuracy: 0.9555 - val_loss: 1.1977 - val_accuracy: 0.7760\n",
      "Epoch 18/20\n",
      "32/32 [==============================] - 0s 9ms/step - loss: 0.1225 - accuracy: 0.9568 - val_loss: 1.1547 - val_accuracy: 0.7860\n",
      "Epoch 19/20\n",
      "32/32 [==============================] - 0s 7ms/step - loss: 0.1231 - accuracy: 0.9558 - val_loss: 1.1425 - val_accuracy: 0.7910\n",
      "Epoch 20/20\n",
      "32/32 [==============================] - 0s 6ms/step - loss: 0.1155 - accuracy: 0.9595 - val_loss: 1.1365 - val_accuracy: 0.7880\n"
     ]
    }
   ],
   "source": [
    "history = model.fit(partial_x_train,\n",
    "                    partial_y_train,\n",
    "                    epochs=20,\n",
    "                    batch_size=256,\n",
    "                    validation_data=(x_val, y_val))"
   ]
  },
  {
   "cell_type": "markdown",
   "metadata": {},
   "source": [
    "Pokażmy wykresy strat (`loss`) i dokładności (`accuracy`):"
   ]
  },
  {
   "cell_type": "code",
   "execution_count": 53,
   "metadata": {
    "scrolled": true
   },
   "outputs": [
    {
     "data": {
      "image/png": "[encoded data removed]",
      "text/plain": [
       "<Figure size 1080x360 with 1 Axes>"
      ]
     },
     "metadata": {
      "needs_background": "light"
     },
     "output_type": "display_data"
    }
   ],
   "source": [
    "history1_dict = history1.history\n",
    "loss1 = history1_dict['loss']\n",
    "val_loss1 = history1_dict['val_loss']\n",
    "\n",
    "PlotLossComparison()"
   ]
  },
  {
   "cell_type": "code",
   "execution_count": 54,
   "metadata": {},
   "outputs": [
    {
     "data": {
      "image/png": "[encoded data removed]",
      "text/plain": [
       "<Figure size 1080x360 with 1 Axes>"
      ]
     },
     "metadata": {
      "needs_background": "light"
     },
     "output_type": "display_data"
    }
   ],
   "source": [
    "acc1 = history1_dict['accuracy']\n",
    "val_acc1 = history1_dict['val_accuracy']\n",
    "\n",
    "PlotAccuracyComparison()"
   ]
  },
  {
   "cell_type": "markdown",
   "metadata": {},
   "source": [
    "Our network starts overfitting after 5 epochs, so let's train it again from scratch for 5 epochs, and then evaluate it on the test set:\n",
    "\n",
    "Nasza sieć zaczyna się przeuczać (zbytnio dopasowywać do danych uczących) po 5 epokach, więc wytrenujmy ją od nowa przez 5 epok, a następnie oceńmy wynik tej nauki na zbiorze testowym:"
   ]
  },
  {
   "cell_type": "code",
   "execution_count": 55,
   "metadata": {},
   "outputs": [
    {
     "name": "stdout",
     "output_type": "stream",
     "text": [
      "Model: \"sequential_4\"\n",
      "_________________________________________________________________\n",
      " Layer (type)                Output Shape              Param #   \n",
      "=================================================================\n",
      " dense_11 (Dense)            (None, 64)                320064    \n",
      "                                                                 \n",
      " dense_12 (Dense)            (None, 32)                2080      \n",
      "                                                                 \n",
      " dense_13 (Dense)            (None, 46)                1518      \n",
      "                                                                 \n",
      "=================================================================\n",
      "Total params: 323,662\n",
      "Trainable params: 323,662\n",
      "Non-trainable params: 0\n",
      "_________________________________________________________________\n",
      "Epoch 1/5\n",
      "32/32 [==============================] - 1s 9ms/step - loss: 2.3041 - accuracy: 0.5440 - val_loss: 1.5625 - val_accuracy: 0.6370\n",
      "Epoch 2/5\n",
      "32/32 [==============================] - 0s 7ms/step - loss: 1.3124 - accuracy: 0.7190 - val_loss: 1.2148 - val_accuracy: 0.7470\n",
      "Epoch 3/5\n",
      "32/32 [==============================] - 0s 9ms/step - loss: 0.9903 - accuracy: 0.7850 - val_loss: 1.0761 - val_accuracy: 0.7650\n",
      "Epoch 4/5\n",
      "32/32 [==============================] - 0s 6ms/step - loss: 0.7831 - accuracy: 0.8304 - val_loss: 0.9676 - val_accuracy: 0.7940\n",
      "Epoch 5/5\n",
      "32/32 [==============================] - 0s 6ms/step - loss: 0.6258 - accuracy: 0.8666 - val_loss: 0.9191 - val_accuracy: 0.8020\n",
      "71/71 [==============================] - 0s 1ms/step - loss: 1.0351 - accuracy: 0.7609\n"
     ]
    }
   ],
   "source": [
    "model = models.Sequential()\n",
    "model.add(layers.Dense(64, activation='relu', input_shape=(num_top_words,)))\n",
    "model.add(layers.Dense(32, activation='relu'))\n",
    "model.add(layers.Dense(no_classes, activation='softmax'))\n",
    "\n",
    "model.summary()\n",
    "\n",
    "model.compile(optimizer='rmsprop',\n",
    "              loss='categorical_crossentropy',\n",
    "              metrics=['accuracy'])\n",
    "model.fit(partial_x_train,\n",
    "          partial_y_train,\n",
    "          epochs=5,\n",
    "          batch_size=256,\n",
    "          validation_data=(x_val, y_val))\n",
    "results = model.evaluate(x_test, one_hot_test_labels)"
   ]
  },
  {
   "cell_type": "code",
   "execution_count": 56,
   "metadata": {},
   "outputs": [
    {
     "data": {
      "text/plain": [
       "[1.0351231098175049, 0.760908305644989]"
      ]
     },
     "execution_count": 56,
     "metadata": {},
     "output_type": "execute_result"
    }
   ],
   "source": [
    "results"
   ]
  },
  {
   "cell_type": "markdown",
   "metadata": {},
   "source": [
    "Osiągnęliśmy dokładność ~76%, co jak na początek wydaje się niezłe w porównaniu z losowym klasyfikatorem bazowym, który zwraca dokładność ~18%:"
   ]
  },
  {
   "cell_type": "code",
   "execution_count": 57,
   "metadata": {},
   "outputs": [
    {
     "data": {
      "text/plain": [
       "0.18121104185218165"
      ]
     },
     "execution_count": 57,
     "metadata": {},
     "output_type": "execute_result"
    }
   ],
   "source": [
    "import copy\n",
    "\n",
    "test_labels_copy = copy.copy(test_labels)\n",
    "np.random.shuffle(test_labels_copy)\n",
    "float(np.sum(np.array(test_labels) == np.array(test_labels_copy))) / len(test_labels)"
   ]
  },
  {
   "cell_type": "markdown",
   "metadata": {},
   "source": [
    "Sprawdźmy, czy metoda `predict` naszej instancji modelu zwraca rozkład prawdopodobieństwa dla wszystkich 46 tematów, a wyniki sumują się do 1:"
   ]
  },
  {
   "cell_type": "code",
   "execution_count": 58,
   "metadata": {},
   "outputs": [],
   "source": [
    "predictions = model.predict(x_test)"
   ]
  },
  {
   "cell_type": "code",
   "execution_count": 59,
   "metadata": {},
   "outputs": [
    {
     "data": {
      "text/plain": [
       "(46,)"
      ]
     },
     "execution_count": 59,
     "metadata": {},
     "output_type": "execute_result"
    }
   ],
   "source": [
    "predictions[0].shape"
   ]
  },
  {
   "cell_type": "code",
   "execution_count": 60,
   "metadata": {},
   "outputs": [
    {
     "data": {
      "text/plain": [
       "1.0"
      ]
     },
     "execution_count": 60,
     "metadata": {},
     "output_type": "execute_result"
    }
   ],
   "source": [
    "np.sum(predictions[0])"
   ]
  },
  {
   "cell_type": "markdown",
   "metadata": {},
   "source": [
    "Największy wynik określa przewidywaną klasę, czyli klasę o największym prawdopodobieństwie:"
   ]
  },
  {
   "cell_type": "code",
   "execution_count": 61,
   "metadata": {
    "scrolled": true
   },
   "outputs": [
    {
     "data": {
      "text/plain": [
       "3"
      ]
     },
     "execution_count": 61,
     "metadata": {},
     "output_type": "execute_result"
    }
   ],
   "source": [
    "np.argmax(predictions[0])"
   ]
  },
  {
   "cell_type": "markdown",
   "metadata": {},
   "source": [
    "Istnieją dwa sposoby obsługi etykiet w klasyfikacji wieloklasowej:\n",
    "* Kodowanie etykiet jako wektor zer z jedynką (one-hot vectors\") oraz używanie „categorical_crossentropy”.\n",
    "* Kodowanie etykiet jako liczb całkowitych i używanie funkcji straty `sparse_categorical_crossentropy`."
   ]
  },
  {
   "cell_type": "code",
   "execution_count": 62,
   "metadata": {},
   "outputs": [],
   "source": [
    "model.compile(optimizer='rmsprop',\n",
    "              loss='sparse_categorical_crossentropy',\n",
    "              metrics=['acc'])"
   ]
  },
  {
   "cell_type": "markdown",
   "metadata": {},
   "source": [
    "Teraz poeksperymentujmy z różnymi modelami, aby zminimalizować stratę (`loss`) modelu:"
   ]
  },
  {
   "cell_type": "code",
   "execution_count": 63,
   "metadata": {},
   "outputs": [
    {
     "name": "stdout",
     "output_type": "stream",
     "text": [
      "Model: \"sequential_5\"\n",
      "_________________________________________________________________\n",
      " Layer (type)                Output Shape              Param #   \n",
      "=================================================================\n",
      " dense_14 (Dense)            (None, 32)                160032    \n",
      "                                                                 \n",
      " dense_15 (Dense)            (None, 16)                528       \n",
      "                                                                 \n",
      " dense_16 (Dense)            (None, 46)                782       \n",
      "                                                                 \n",
      "=================================================================\n",
      "Total params: 161,342\n",
      "Trainable params: 161,342\n",
      "Non-trainable params: 0\n",
      "_________________________________________________________________\n",
      "Epoch 1/20\n",
      "32/32 [==============================] - 1s 10ms/step - loss: 3.1364 - accuracy: 0.4342 - val_loss: 2.3427 - val_accuracy: 0.5750\n",
      "Epoch 2/20\n",
      "32/32 [==============================] - 0s 5ms/step - loss: 1.8799 - accuracy: 0.6327 - val_loss: 1.5875 - val_accuracy: 0.6770\n",
      "Epoch 3/20\n",
      "32/32 [==============================] - 0s 4ms/step - loss: 1.3615 - accuracy: 0.7076 - val_loss: 1.3020 - val_accuracy: 0.7050\n",
      "Epoch 4/20\n",
      "32/32 [==============================] - 0s 4ms/step - loss: 1.1150 - accuracy: 0.7522 - val_loss: 1.1725 - val_accuracy: 0.7360\n",
      "Epoch 5/20\n",
      "32/32 [==============================] - 0s 4ms/step - loss: 0.9572 - accuracy: 0.7870 - val_loss: 1.0917 - val_accuracy: 0.7500\n",
      "Epoch 6/20\n",
      "32/32 [==============================] - 0s 4ms/step - loss: 0.8366 - accuracy: 0.8126 - val_loss: 1.0650 - val_accuracy: 0.7560\n",
      "Epoch 7/20\n",
      "32/32 [==============================] - 0s 4ms/step - loss: 0.7324 - accuracy: 0.8356 - val_loss: 1.0149 - val_accuracy: 0.7770\n",
      "Epoch 8/20\n",
      "32/32 [==============================] - 0s 5ms/step - loss: 0.6431 - accuracy: 0.8586 - val_loss: 0.9870 - val_accuracy: 0.7930\n",
      "Epoch 9/20\n",
      "32/32 [==============================] - 0s 4ms/step - loss: 0.5654 - accuracy: 0.8796 - val_loss: 0.9676 - val_accuracy: 0.7950\n",
      "Epoch 10/20\n",
      "32/32 [==============================] - 0s 4ms/step - loss: 0.4994 - accuracy: 0.8935 - val_loss: 0.9629 - val_accuracy: 0.7990\n",
      "Epoch 11/20\n",
      "32/32 [==============================] - 0s 6ms/step - loss: 0.4420 - accuracy: 0.9082 - val_loss: 0.9555 - val_accuracy: 0.8050\n",
      "Epoch 12/20\n",
      "32/32 [==============================] - 0s 6ms/step - loss: 0.3903 - accuracy: 0.9163 - val_loss: 0.9430 - val_accuracy: 0.8090\n",
      "Epoch 13/20\n",
      "32/32 [==============================] - 0s 6ms/step - loss: 0.3493 - accuracy: 0.9251 - val_loss: 0.9549 - val_accuracy: 0.8070\n",
      "Epoch 14/20\n",
      "32/32 [==============================] - 0s 5ms/step - loss: 0.3117 - accuracy: 0.9308 - val_loss: 0.9610 - val_accuracy: 0.8130\n",
      "Epoch 15/20\n",
      "32/32 [==============================] - 0s 4ms/step - loss: 0.2817 - accuracy: 0.9350 - val_loss: 0.9847 - val_accuracy: 0.7990\n",
      "Epoch 16/20\n",
      "32/32 [==============================] - 0s 4ms/step - loss: 0.2549 - accuracy: 0.9394 - val_loss: 0.9915 - val_accuracy: 0.8100\n",
      "Epoch 17/20\n",
      "32/32 [==============================] - 0s 4ms/step - loss: 0.2316 - accuracy: 0.9456 - val_loss: 1.0342 - val_accuracy: 0.7970\n",
      "Epoch 18/20\n",
      "32/32 [==============================] - 0s 6ms/step - loss: 0.2156 - accuracy: 0.9484 - val_loss: 1.0267 - val_accuracy: 0.8070\n",
      "Epoch 19/20\n",
      "32/32 [==============================] - 0s 6ms/step - loss: 0.1970 - accuracy: 0.9496 - val_loss: 1.0452 - val_accuracy: 0.8000\n",
      "Epoch 20/20\n",
      "32/32 [==============================] - 0s 6ms/step - loss: 0.1853 - accuracy: 0.9529 - val_loss: 1.0406 - val_accuracy: 0.8010\n"
     ]
    }
   ],
   "source": [
    "x_val = x_train[:1000]\n",
    "partial_x_train = x_train[1000:]\n",
    "y_val = one_hot_train_labels[:1000]\n",
    "partial_y_train = one_hot_train_labels[1000:]\n",
    "\n",
    "model2 = models.Sequential()\n",
    "model2.add(layers.Dense(32, activation='relu', input_shape=(num_top_words,)))\n",
    "model2.add(layers.Dense(16, activation='relu'))\n",
    "model2.add(layers.Dense(no_classes, activation='softmax'))\n",
    "\n",
    "model2.summary()\n",
    "\n",
    "model2.compile(optimizer='rmsprop',\n",
    "               loss='categorical_crossentropy',\n",
    "               metrics=['accuracy'])\n",
    "\n",
    "history2 = model2.fit(partial_x_train,\n",
    "                      partial_y_train,\n",
    "                      epochs=20,\n",
    "                      batch_size=256,\n",
    "                      validation_data=(x_val, y_val))"
   ]
  },
  {
   "cell_type": "code",
   "execution_count": 64,
   "metadata": {},
   "outputs": [
    {
     "data": {
      "image/png": "[encoded data removed]",
      "text/plain": [
       "<Figure size 1080x360 with 1 Axes>"
      ]
     },
     "metadata": {
      "needs_background": "light"
     },
     "output_type": "display_data"
    },
    {
     "data": {
      "image/png": "[encoded data removed]",
      "text/plain": [
       "<Figure size 1080x360 with 1 Axes>"
      ]
     },
     "metadata": {
      "needs_background": "light"
     },
     "output_type": "display_data"
    }
   ],
   "source": [
    "history2_dict = history2.history\n",
    "\n",
    "#loss1 = history1_dict['loss']\n",
    "loss2 = history2_dict['loss']\n",
    "#val_loss1 = history1_dict['val_loss']\n",
    "val_loss2 = history2_dict['val_loss']\n",
    "PlotTwoLossComparison()\n",
    "\n",
    "acc2 = history2_dict['accuracy']\n",
    "val_acc2 = history2_dict['val_accuracy']\n",
    "PlotTwoAccuracyComparison()"
   ]
  },
  {
   "cell_type": "markdown",
   "metadata": {},
   "source": [
    "# Przykład regresji\n",
    "\n",
    "W naszych dwóch poprzednich przykładach rozważaliśmy różne problemy związane z klasyfikacją, w których celem było przewidzenie pojedynczej dyskretnej etykiety dla pewnego wektora danych wejściowych. Innym powszechnym rodzajem problemu uczenia maszynowego jest <b>regresja</b>, która polega na przewidywaniu wartości ciągłej (liczbowej) zamiast dyskretnej etykiety klasy, np. przewidywanie kosztów, temperatury, cen.\n",
    "\n",
    "Nie pomyl <b>regresji</b> z algorytmem <b>regresji logistycznej</b>, który nie jest algorytmem regresji, ale algorytmem klasyfikacji."
   ]
  },
  {
   "cell_type": "markdown",
   "metadata": {},
   "source": [
    "## Zbiór danych Boston Housing Price\n",
    "\n",
    "Zademonstrujemy regresję, próbując przewidzieć medianę cen domów na danym przedmieściu Bostonu w połowie lat 70., biorąc pod uwagę kilka danych dotyczących tego przedmieścia w tym czasie, takich jak wskaźnik przestępczości, stawka lokalnego podatku od nieruchomości itp.\n",
    "\n",
    "Do treningu będziemy mieli bardzo mało przykładów danych, tylko 506 łącznie, podzielone na 404 przykłady treningowe i 102 przykłady testowe, a każda „cecha” w danych wejściowych (np. wskaźnik przestępczości jest cechą) ma inną skalę. Na przykład niektóre wartości są proporcjami, które przyjmują wartości od 0 do 1, inne przyjmują wartości od 1 do 12, inne od 0 do 100 itd."
   ]
  },
  {
   "cell_type": "code",
   "execution_count": 65,
   "metadata": {},
   "outputs": [],
   "source": [
    "from keras.datasets import boston_housing\n",
    "\n",
    "(train_data, train_targets), (test_data, test_targets) =  boston_housing.load_data()"
   ]
  },
  {
   "cell_type": "code",
   "execution_count": 66,
   "metadata": {},
   "outputs": [
    {
     "data": {
      "text/plain": [
       "(404, 13)"
      ]
     },
     "execution_count": 66,
     "metadata": {},
     "output_type": "execute_result"
    }
   ],
   "source": [
    "train_data.shape"
   ]
  },
  {
   "cell_type": "code",
   "execution_count": 67,
   "metadata": {},
   "outputs": [
    {
     "data": {
      "text/plain": [
       "(102, 13)"
      ]
     },
     "execution_count": 67,
     "metadata": {},
     "output_type": "execute_result"
    }
   ],
   "source": [
    "test_data.shape"
   ]
  },
  {
   "cell_type": "markdown",
   "metadata": {},
   "source": [
    "Mamy 404 przykłady treningowe i 102 przykłady testowe.\n",
    "\n",
    "Dane obejmują 13 cech:\n",
    "\n",
    "1. Wskaźnik przestępczości na mieszkańca.\n",
    "2. Proporcja gruntów mieszkalnych przeznaczonych na działki o powierzchni ponad 25 000 stóp kwadratowych.\n",
    "3. Proporcja akrów działalności niedetalicznej na miasto.\n",
    "4. Zmienna fikcyjna Charles River (równa 1, jeśli trakt ogranicza rzekę; 0 w przeciwnym razie).\n",
    "5. Stężenie tlenków azotu (części na 10 milionów).\n",
    "6. Średnia liczba pokoi w mieszkaniu.\n",
    "7. Udział jednostek okupowanych wybudowanych przed 1940 r.\n",
    "8. Odległości ważone do pięciu bostońskich centrów zatrudnienia.\n",
    "9. Wskaźnik dostępności do autostrad radialnych.\n",
    "10. Pełnowartościowa stawka podatku od nieruchomości za 10 000 USD.\n",
    "11. Stosunek uczniów do nauczycieli według miast.\n",
    "12. $1000 * (Bk - 0,63)^2$ gdzie $Bk$ to odsetek mieszkańców afroamerykańskich według miasta.\n",
    "13. Procent niższego statusu ludności.\n",
    "\n",
    "Cele to mediana wartości domów zamieszkanych przez właścicieli, wyrażona w tysiącach dolarów:"
   ]
  },
  {
   "cell_type": "code",
   "execution_count": 68,
   "metadata": {},
   "outputs": [
    {
     "data": {
      "text/plain": [
       "array([15.2, 42.3, 50. , 21.1, 17.7, 18.5, 11.3, 15.6, 15.6, 14.4, 12.1,\n",
       "       17.9, 23.1, 19.9, 15.7,  8.8, 50. , 22.5, 24.1, 27.5, 10.9, 30.8,\n",
       "       32.9, 24. , 18.5, 13.3, 22.9, 34.7, 16.6, 17.5, 22.3, 16.1, 14.9,\n",
       "       23.1, 34.9, 25. , 13.9, 13.1, 20.4, 20. , 15.2, 24.7, 22.2, 16.7,\n",
       "       12.7, 15.6, 18.4, 21. , 30.1, 15.1, 18.7,  9.6, 31.5, 24.8, 19.1,\n",
       "       22. , 14.5, 11. , 32. , 29.4, 20.3, 24.4, 14.6, 19.5, 14.1, 14.3,\n",
       "       15.6, 10.5,  6.3, 19.3, 19.3, 13.4, 36.4, 17.8, 13.5, 16.5,  8.3,\n",
       "       14.3, 16. , 13.4, 28.6, 43.5, 20.2, 22. , 23. , 20.7, 12.5, 48.5,\n",
       "       14.6, 13.4, 23.7, 50. , 21.7, 39.8, 38.7, 22.2, 34.9, 22.5, 31.1,\n",
       "       28.7, 46. , 41.7, 21. , 26.6, 15. , 24.4, 13.3, 21.2, 11.7, 21.7,\n",
       "       19.4, 50. , 22.8, 19.7, 24.7, 36.2, 14.2, 18.9, 18.3, 20.6, 24.6,\n",
       "       18.2,  8.7, 44. , 10.4, 13.2, 21.2, 37. , 30.7, 22.9, 20. , 19.3,\n",
       "       31.7, 32. , 23.1, 18.8, 10.9, 50. , 19.6,  5. , 14.4, 19.8, 13.8,\n",
       "       19.6, 23.9, 24.5, 25. , 19.9, 17.2, 24.6, 13.5, 26.6, 21.4, 11.9,\n",
       "       22.6, 19.6,  8.5, 23.7, 23.1, 22.4, 20.5, 23.6, 18.4, 35.2, 23.1,\n",
       "       27.9, 20.6, 23.7, 28. , 13.6, 27.1, 23.6, 20.6, 18.2, 21.7, 17.1,\n",
       "        8.4, 25.3, 13.8, 22.2, 18.4, 20.7, 31.6, 30.5, 20.3,  8.8, 19.2,\n",
       "       19.4, 23.1, 23. , 14.8, 48.8, 22.6, 33.4, 21.1, 13.6, 32.2, 13.1,\n",
       "       23.4, 18.9, 23.9, 11.8, 23.3, 22.8, 19.6, 16.7, 13.4, 22.2, 20.4,\n",
       "       21.8, 26.4, 14.9, 24.1, 23.8, 12.3, 29.1, 21. , 19.5, 23.3, 23.8,\n",
       "       17.8, 11.5, 21.7, 19.9, 25. , 33.4, 28.5, 21.4, 24.3, 27.5, 33.1,\n",
       "       16.2, 23.3, 48.3, 22.9, 22.8, 13.1, 12.7, 22.6, 15. , 15.3, 10.5,\n",
       "       24. , 18.5, 21.7, 19.5, 33.2, 23.2,  5. , 19.1, 12.7, 22.3, 10.2,\n",
       "       13.9, 16.3, 17. , 20.1, 29.9, 17.2, 37.3, 45.4, 17.8, 23.2, 29. ,\n",
       "       22. , 18. , 17.4, 34.6, 20.1, 25. , 15.6, 24.8, 28.2, 21.2, 21.4,\n",
       "       23.8, 31. , 26.2, 17.4, 37.9, 17.5, 20. ,  8.3, 23.9,  8.4, 13.8,\n",
       "        7.2, 11.7, 17.1, 21.6, 50. , 16.1, 20.4, 20.6, 21.4, 20.6, 36.5,\n",
       "        8.5, 24.8, 10.8, 21.9, 17.3, 18.9, 36.2, 14.9, 18.2, 33.3, 21.8,\n",
       "       19.7, 31.6, 24.8, 19.4, 22.8,  7.5, 44.8, 16.8, 18.7, 50. , 50. ,\n",
       "       19.5, 20.1, 50. , 17.2, 20.8, 19.3, 41.3, 20.4, 20.5, 13.8, 16.5,\n",
       "       23.9, 20.6, 31.5, 23.3, 16.8, 14. , 33.8, 36.1, 12.8, 18.3, 18.7,\n",
       "       19.1, 29. , 30.1, 50. , 50. , 22. , 11.9, 37.6, 50. , 22.7, 20.8,\n",
       "       23.5, 27.9, 50. , 19.3, 23.9, 22.6, 15.2, 21.7, 19.2, 43.8, 20.3,\n",
       "       33.2, 19.9, 22.5, 32.7, 22. , 17.1, 19. , 15. , 16.1, 25.1, 23.7,\n",
       "       28.7, 37.2, 22.6, 16.4, 25. , 29.8, 22.1, 17.4, 18.1, 30.3, 17.5,\n",
       "       24.7, 12.6, 26.5, 28.7, 13.3, 10.4, 24.4, 23. , 20. , 17.8,  7. ,\n",
       "       11.8, 24.4, 13.8, 19.4, 25.2, 19.4, 19.4, 29.1])"
      ]
     },
     "execution_count": 68,
     "metadata": {},
     "output_type": "execute_result"
    }
   ],
   "source": [
    "train_targets"
   ]
  },
  {
   "cell_type": "markdown",
   "metadata": {},
   "source": [
    "## Przygotowanie danych\n",
    "\n",
    "Problematyczne jest wprowadzanie do sieci neuronowej wartości o bardzo różnych zakresach. Sieć może być w stanie automatycznie dostosować się do tak heterogenicznych danych, ale z pewnością utrudniłoby to naukę. Powszechną najlepszą praktyką radzenia sobie z takimi danymi jest normalizacja pod kątem cech: dla każdej cechy w danych wejściowych (kolumna w macierzy danych wejściowych) odejmiemy średnią cechy i podzielimy przez odchylenie standardowe, tak że obiekt będzie wypośrodkowany wokół 0 i będzie miał jednostkowe odchylenie standardowe. Można to łatwo zrobić korzystając z biblioteki Numpy:"
   ]
  },
  {
   "cell_type": "code",
   "execution_count": 69,
   "metadata": {},
   "outputs": [],
   "source": [
    "mean = train_data.mean(axis=0)\n",
    "std = train_data.std(axis=0)\n",
    "\n",
    "train_data -= mean\n",
    "train_data /= std\n",
    "\n",
    "test_data -= mean\n",
    "test_data /= std"
   ]
  },
  {
   "cell_type": "markdown",
   "metadata": {},
   "source": [
    "## Budowanie sieci\n",
    "\n",
    "Ponieważ dostępnych jest tak mało próbek, będziemy używać bardzo małej sieci z dwiema ukrytymi warstwami, każda po 32 jednostki. Ogólnie rzecz biorąc, im mniej danych treningowych posiadasz, tym gorsze będzie nadmierne dopasowanie sieci (przeuczenie), a korzystanie z małej sieci jest jednym ze sposobów na złagodzenie nadmiernego dopasowania."
   ]
  },
  {
   "cell_type": "code",
   "execution_count": 70,
   "metadata": {},
   "outputs": [],
   "source": [
    "def build_model():\n",
    "    # Because we will need to instantiate the same model multiple times,\n",
    "    # we use a function to construct it.\n",
    "    model = models.Sequential()\n",
    "    model.add(layers.Dense(32, activation='relu',\n",
    "                           input_shape=(train_data.shape[1],)))\n",
    "    model.add(layers.Dense(32, activation='relu'))\n",
    "    model.add(layers.Dense(1))\n",
    "    model.compile(optimizer='rmsprop', loss='mse', metrics=['mae'])\n",
    "    return model"
   ]
  },
  {
   "cell_type": "markdown",
   "metadata": {},
   "source": [
    "Nasza sieć kończy się pojedynczą jednostką bez funkcji aktywacji (czyli będzie warstwą liniową). Jest to typowa konfiguracja regresji skalarnej (tj. regresji, w której próbujemy przewidzieć pojedynczą wartość ciągłą).\n",
    "\n",
    "Zastosowanie innej funkcji aktywacji ograniczyłoby zakres, jaki może zająć wyjście; na przykład, jeśli zastosowaliśmy funkcję aktywacji `sigmoid` do naszej ostatniej warstwy, sieć mogłaby nauczyć się przewidywać wartości od 0 do 1. Tutaj, ponieważ ostatnia warstwa jest czysto liniowa, sieć może nauczyć się przewidywać wartości o dowolnym zasięgu.\n",
    "\n",
    "Zauważ, że kompilujemy sieć z funkcją straty `mse` (błąd średniokwadratowy), czyli kwadratem różnicy między przewidywaniami a wartościami docelowymi, a więc powszechnie używaną funkcją straty w problemach regresji.\n",
    "\n",
    "Monitorujemy również nową metrykę podczas treningu za pomocą `mae`, co oznacza średni błąd bezwzględny. Jest to po prostu bezwzględna wartość różnicy między przewidywaniami a celami. Na przykład, MAE na poziomie 0,5 dla tego problemu oznaczałoby, że nasze prognozy są chybione średnio o 500 USD."
   ]
  },
  {
   "cell_type": "markdown",
   "metadata": {},
   "source": [
    "## Walidacja naszego podejścia za pomocą K-krotnej walidacji krzyżowej (K-fold validation)\n",
    "\n",
    "Aby ocenić naszą sieć podczas uczenia, możemy podzielić dane na zestaw uczący i zestaw walidacyjny, tak jak robiliśmy to w naszych poprzednich przykładach. Ponieważ jednak mamy bardzo mało przykładów, zbiór walidacyjny powinien być bardzo mały (np. zawierać około 80 przykładów). Konsekwencją jest to, że nasze wyniki walidacji mogą się bardzo zmieniać w zależności od tego, które przykłady wybieramy do walidacji, a które do trenowania, tj. wyniki walidacji mogą mieć wysoką <b>wariancję (variance)</b> w odniesieniu do podziału walidacji. Uniemożliwiłoby nam to rzetelną ocenę naszego modelu.\n",
    "\n",
    "Najlepszą praktyką w takich sytuacjach jest użycie walidacji krzyżowej K-fold. Polega ona na podzieleniu dostępnych danych na K partycji (zazwyczaj K = 10 lub 5), a następnie tworzenie K identycznych modeli i trenowanie każdego z nich na K-1 partycjach, a podczas oceny walicowanie modelu na pozostałej jednej partycji. Wynik walidacji dla zastosowanego modelu byłby wówczas średnią z uzyskanych wyników K walidacji."
   ]
  },
  {
   "cell_type": "code",
   "execution_count": 71,
   "metadata": {},
   "outputs": [
    {
     "name": "stdout",
     "output_type": "stream",
     "text": [
      "processing fold # 0\n",
      "processing fold # 1\n",
      "processing fold # 2\n",
      "processing fold # 3\n",
      "WARNING:tensorflow:5 out of the last 90 calls to <function Model.make_test_function.<locals>.test_function at 0x0000021F323CE550> triggered tf.function retracing. Tracing is expensive and the excessive number of tracings could be due to (1) creating @tf.function repeatedly in a loop, (2) passing tensors with different shapes, (3) passing Python objects instead of tensors. For (1), please define your @tf.function outside of the loop. For (2), @tf.function has experimental_relax_shapes=True option that relaxes argument shapes that can avoid unnecessary retracing. For (3), please refer to https://www.tensorflow.org/guide/function#controlling_retracing and https://www.tensorflow.org/api_docs/python/tf/function for  more details.\n",
      "processing fold # 4\n",
      "WARNING:tensorflow:5 out of the last 13 calls to <function Model.make_test_function.<locals>.test_function at 0x0000021F47B5AF70> triggered tf.function retracing. Tracing is expensive and the excessive number of tracings could be due to (1) creating @tf.function repeatedly in a loop, (2) passing tensors with different shapes, (3) passing Python objects instead of tensors. For (1), please define your @tf.function outside of the loop. For (2), @tf.function has experimental_relax_shapes=True option that relaxes argument shapes that can avoid unnecessary retracing. For (3), please refer to https://www.tensorflow.org/guide/function#controlling_retracing and https://www.tensorflow.org/api_docs/python/tf/function for  more details.\n"
     ]
    }
   ],
   "source": [
    "import numpy as np\n",
    "\n",
    "k = 5\n",
    "num_val_samples = len(train_data) // k\n",
    "num_epochs = 100\n",
    "all_scores = []\n",
    "for i in range(k):\n",
    "    print('processing fold #', i)\n",
    "    # Prepare the validation data: data from partition # k\n",
    "    val_data = train_data[i * num_val_samples: (i + 1) * num_val_samples]\n",
    "    val_targets = train_targets[i * num_val_samples: (i + 1) * num_val_samples]\n",
    "\n",
    "    # Prepare the training data: data from all other partitions\n",
    "    partial_train_data = np.concatenate(\n",
    "        [train_data[:i * num_val_samples],\n",
    "         train_data[(i + 1) * num_val_samples:]],\n",
    "        axis=0)\n",
    "    partial_train_targets = np.concatenate(\n",
    "        [train_targets[:i * num_val_samples],\n",
    "         train_targets[(i + 1) * num_val_samples:]],\n",
    "        axis=0)\n",
    "\n",
    "    # Build the Keras model (already compiled)\n",
    "    model = build_model()\n",
    "    # Train the model (verbose=0 sets the fitting into a silent mode)\n",
    "    model.fit(partial_train_data, partial_train_targets,\n",
    "              epochs=num_epochs, batch_size=1, verbose=0)\n",
    "    # Evaluate the model on the validation data\n",
    "    val_mse, val_mae = model.evaluate(val_data, val_targets, verbose=0)\n",
    "    all_scores.append(val_mae)"
   ]
  },
  {
   "cell_type": "code",
   "execution_count": 72,
   "metadata": {},
   "outputs": [
    {
     "data": {
      "text/plain": [
       "[2.063760280609131,\n",
       " 2.4652938842773438,\n",
       " 2.1755874156951904,\n",
       " 2.763467311859131,\n",
       " 2.4814789295196533]"
      ]
     },
     "execution_count": 72,
     "metadata": {},
     "output_type": "execute_result"
    }
   ],
   "source": [
    "all_scores"
   ]
  },
  {
   "cell_type": "code",
   "execution_count": 73,
   "metadata": {},
   "outputs": [
    {
     "data": {
      "text/plain": [
       "2.38991756439209"
      ]
     },
     "execution_count": 73,
     "metadata": {},
     "output_type": "execute_result"
    }
   ],
   "source": [
    "np.mean(all_scores)"
   ]
  },
  {
   "cell_type": "markdown",
   "metadata": {},
   "source": [
    "Możemy zauważyć, że różne przebiegi rzeczywiście wykazują dość różne wyniki walidacji, od 2,1 do 2,9. Ich średnia (~2,6) jest znacznie bardziej wiarygodną miarą niż jakikolwiek z tych wyników – to cały punkt K-krotnej walidacji krzyżowej. W tym przypadku tracimy średnio o 2600 USD, co nadal jest znaczące, biorąc pod uwagę, że ceny wahają się od 10000 USD do 50000 USD.\n",
    "\n",
    "Spróbujmy trenować sieć trochę dłużej, np. przez 500 epok. Aby rejestrować, jak dobrze model radził sobie w każdej epoce, zmodyfikujemy naszą pętlę treningową, aby zapisać historię wyników walidacji dla każdej epoki:"
   ]
  },
  {
   "cell_type": "code",
   "execution_count": 1,
   "metadata": {},
   "outputs": [],
   "source": [
    "from keras import backend as K\n",
    "\n",
    "# Some memory clean-up\n",
    "K.clear_session()"
   ]
  },
  {
   "cell_type": "code",
   "execution_count": 75,
   "metadata": {},
   "outputs": [
    {
     "name": "stdout",
     "output_type": "stream",
     "text": [
      "processing fold # 0\n",
      "processing fold # 1\n",
      "processing fold # 2\n",
      "processing fold # 3\n",
      "processing fold # 4\n"
     ]
    }
   ],
   "source": [
    "num_epochs = 500\n",
    "all_mae_histories = []\n",
    "for i in range(k):\n",
    "    print('processing fold #', i)\n",
    "    # Prepare the validation data: data from partition # k\n",
    "    val_data = train_data[i * num_val_samples: (i + 1) * num_val_samples]\n",
    "    val_targets = train_targets[i * num_val_samples: (i + 1) * num_val_samples]\n",
    "\n",
    "    # Prepare the training data: data from all other partitions\n",
    "    partial_train_data = np.concatenate(\n",
    "        [train_data[:i * num_val_samples], train_data[(i + 1) * num_val_samples:]],\n",
    "        axis=0)\n",
    "    partial_train_targets = np.concatenate(\n",
    "        [train_targets[:i * num_val_samples], train_targets[(i + 1) * num_val_samples:]],\n",
    "        axis=0)\n",
    "\n",
    "    # Build the Keras model (already compiled)\n",
    "    model = build_model()\n",
    "    # Train the model (in silent mode, verbose=0)\n",
    "    history = model.fit(partial_train_data, partial_train_targets,\n",
    "                        validation_data=(val_data, val_targets),\n",
    "                        epochs=num_epochs, batch_size=16, verbose=0)\n",
    "    #print (history.history.keys())\n",
    "    #mae_history = history.history['val_mean_absolute_error']\n",
    "    mae_history = history.history['val_mae']\n",
    "    all_mae_histories.append(mae_history)"
   ]
  },
  {
   "cell_type": "markdown",
   "metadata": {},
   "source": [
    "Następnie możemy obliczyć średnią wyników `mae` dla każdej epoki dla wszystkich partycji:"
   ]
  },
  {
   "cell_type": "code",
   "execution_count": 76,
   "metadata": {},
   "outputs": [],
   "source": [
    "average_mae_history = [np.mean([x[i] for x in all_mae_histories])\n",
    "                       for i in range(num_epochs)]"
   ]
  },
  {
   "cell_type": "code",
   "execution_count": 77,
   "metadata": {},
   "outputs": [],
   "source": [
    "argmin = np.argmin(average_mae_history)"
   ]
  },
  {
   "cell_type": "code",
   "execution_count": 78,
   "metadata": {},
   "outputs": [
    {
     "data": {
      "text/plain": [
       "268"
      ]
     },
     "execution_count": 78,
     "metadata": {},
     "output_type": "execute_result"
    }
   ],
   "source": [
    "argmin"
   ]
  },
  {
   "cell_type": "code",
   "execution_count": 79,
   "metadata": {},
   "outputs": [
    {
     "data": {
      "text/plain": [
       "2.221280884742737"
      ]
     },
     "execution_count": 79,
     "metadata": {},
     "output_type": "execute_result"
    }
   ],
   "source": [
    "average_mae_history[np.argmin(average_mae_history)]"
   ]
  },
  {
   "cell_type": "markdown",
   "metadata": {},
   "source": [
    "Narysujmy wykres historii walidacji dla bezwzględnego błędu średniego treningu (`mae`):"
   ]
  },
  {
   "cell_type": "code",
   "execution_count": 80,
   "metadata": {},
   "outputs": [
    {
     "data": {
      "image/png": "[encoded data removed]",
      "text/plain": [
       "<Figure size 1080x360 with 1 Axes>"
      ]
     },
     "metadata": {
      "needs_background": "light"
     },
     "output_type": "display_data"
    }
   ],
   "source": [
    "import matplotlib.pyplot as plt\n",
    "\n",
    "plt.plot(range(1, len(average_mae_history) + 1), average_mae_history)\n",
    "plt.axvline(x=argmin, color='r', linewidth=2)\n",
    "plt.xlabel('Epochs')\n",
    "plt.ylabel('Validation MAE')\n",
    "plt.show()"
   ]
  },
  {
   "cell_type": "markdown",
   "metadata": {},
   "source": [
    "Jak widać, osiągnęliśmy minimalną średnią `mae` w 47-mej epoce."
   ]
  },
  {
   "cell_type": "markdown",
   "metadata": {},
   "source": [
    "Trochę trudno jest zobaczyć drobne zmiany na wykresie ze względu na problemy ze skalowaniem i stosunkowo dużą wariancję. Użyjmy współczynnika wygładzania ($factor = 1 - 1/10 = 0,9$, wykładnicza średnia krocząca z poprzednich punktów) biorąc pod uwagę ostatnie 10 punktów danych. Pomijamy również pierwsze 10 punktów danych, które są w innej skali niż reszta krzywej."
   ]
  },
  {
   "cell_type": "code",
   "execution_count": 81,
   "metadata": {},
   "outputs": [
    {
     "data": {
      "image/png": "[encoded data removed]",
      "text/plain": [
       "<Figure size 1080x360 with 1 Axes>"
      ]
     },
     "metadata": {
      "needs_background": "light"
     },
     "output_type": "display_data"
    }
   ],
   "source": [
    "def smooth_curve(points, factor=0.9):\n",
    "  smoothed_points = []\n",
    "  for point in points:\n",
    "    if smoothed_points:\n",
    "      previous = smoothed_points[-1]\n",
    "      smoothed_points.append(previous * factor + point * (1 - factor))\n",
    "    else:\n",
    "      smoothed_points.append(point)\n",
    "  return smoothed_points\n",
    "\n",
    "smooth_mae_history = smooth_curve(average_mae_history[10:])\n",
    "\n",
    "plt.plot(range(1, len(smooth_mae_history) + 1), smooth_mae_history)\n",
    "plt.axvline(x=argmin, color='r', linewidth=2)\n",
    "plt.xlabel('Epochs')\n",
    "plt.ylabel('Validation MAE')\n",
    "plt.show()"
   ]
  },
  {
   "cell_type": "markdown",
   "metadata": {},
   "source": [
    "Teraz możemy wytrenować ostateczny model „produkcyjny” na wszystkich danych treningowych, z najlepszymi znalezionymi parametrami, trenując go przez około 47 epok, a następnie przyjrzeć się jego wydajności na danych testowych:"
   ]
  },
  {
   "cell_type": "code",
   "execution_count": 82,
   "metadata": {},
   "outputs": [
    {
     "name": "stdout",
     "output_type": "stream",
     "text": [
      "4/4 [==============================] - 1s 5ms/step - loss: 15.0843 - mae: 2.5631\n"
     ]
    }
   ],
   "source": [
    "# Get a fresh, compiled model.\n",
    "model = build_model()\n",
    "# Train it on the entirety of the data.\n",
    "model.fit(train_data, train_targets,\n",
    "          epochs=259, batch_size=16, verbose=0)\n",
    "test_mse_score, test_mae_score = model.evaluate(test_data, test_targets)"
   ]
  },
  {
   "cell_type": "code",
   "execution_count": 83,
   "metadata": {},
   "outputs": [
    {
     "data": {
      "text/plain": [
       "2.5630884170532227"
      ]
     },
     "execution_count": 83,
     "metadata": {},
     "output_type": "execute_result"
    }
   ],
   "source": [
    "test_mae_score"
   ]
  },
  {
   "cell_type": "markdown",
   "metadata": {},
   "source": [
    "Do naszych prognoz wciąż brakuje około 2360 USD."
   ]
  },
  {
   "cell_type": "markdown",
   "metadata": {},
   "source": [
    "### Zadanie\n",
    "\n",
    "Skopiuj i wklej powyższy kod i spróbuj więcej eksperymentować z dostępnymi hiperparametrami tego modelu, aby osiągnąć jeszcze lepszą wydajność!"
   ]
  },
  {
   "cell_type": "markdown",
   "metadata": {},
   "source": [
    "## Zadania\n",
    "\n",
    "Po zapoznaniu się z powyższymi przykładami spróbuj zrealizować samodzielnie następujące zadania:\n",
    "* Przede wszystkim dokładnie przejrzyj wszystkie te przykładowe sieci i hiperparametry (zielone), a jeśli coś jest ci nieznane, spróbuj znaleźć dodatkowe informacje i wyjaśnienia w Internecie lub wejdź na https://keras.io/ i znajdź odpowiedni opis. Jest to istotna część procesu uczenia się, ponieważ nie wszystkie parametry i funkcje zostaną zaprezentowane na wykładach i zajęciach laboratoryjnych oraz w tych notatnikach Jupyter.\n",
    "* Spróbuj poeksperymentować z niektórymi parametrami (zielone hiperparametry można zmieniać) i trenuj powyższe modele raz za razem, wyciągając wnioski odnośnie sensowności zmian, próbując osiągnąć lepsze wyniki niż zaprezentowane (jest to oczywiście możliwe). Spróbuj wyciągnąć wnioski na temat efektów Twoich zmian.\n",
    "* Spróbuj powtórzyć sekwencję instrukcji i stwórz swoją sieć od podstaw dla innych zbiorów uczących dla klasyfikacji binarnej, wieloklasowej (ew. również wieloetykietowej) oraz dla regresji, możliwych do pozyskania np. na http://kaggle.com.\n",
    "* Stopniowo będziemy podnosić poprzeczkę na naszych wykładach i ćwiczeniach laboratoryjnych, aż będziesz przygotowany do rozpoczęcia pracy nad projektem końcowym w drugiej części tego semestru.\n",
    "* Istnieje wiele narzędzi, które umożliwiają automatyczne dobieranie hiperparametrów, np. Talos, HParams, Optuna, Hyperband [L. Li, K. Jamieson, G. DaSalvo, A. Fostamizadeh, and A. Talwalkar, Hyperband: A Novel Bandit-Based Approach to Hyperparameter Optimization, The Journal of Machine Learning Research, Vol. 18, Issue 1, 2017, pp. 6765-6816], BOHB [S. Falkner, A. Klein, F. Hutter, “BOHB: Robust and Efficient Hyperparameter” Optimization at Scale, Proceedings of the 35th International Conference on Machine Learning, 2018] lub AGDSforHyperOpt [S. Czaplak, A. Horzyk, Automatic Optimization of Hyperparameters Using Associative Self-adapting Structures, Proc. of IJCNN 2022 (WCCI 2022), Padwa, Italy, IEEE Xplore, 2022] czy też korzystają z prostych narzędzi wbudowanych do scikit-learn, tj. GridSearchCV czy RandomizedSearchCV (pierwsza porusza się po pewnej siatce kombinacji hiperparametrów, a druga je generuje losowo w pewnych zakresach zmienności hiperparametrów), ale przestrzeń możliwych kombinacji jest ogromna, więc projektant modelu może tylko niektóre hiperparametry próbować dobrać tymi narzędziami, zaś resztę powinien ustalić sam na podstawie swojej wiedzy i doświadczenia (tego się teraz uczymy).\n",
    "\n",
    "Wyślij notebook z zaimplementowanymi modelami i obliczonymi wynikami, przedstawionymi również na wykresach, z porównaniem oraz z interpretacją uzyskanych wyników i ich podsumowaniem przez MS Teams przed następnymi ćwiczeniami."
   ]
  },
  {
   "cell_type": "code",
   "execution_count": null,
   "metadata": {},
   "outputs": [],
   "source": []
  }
 ],
 "metadata": {
  "kernelspec": {
   "display_name": "Python 3 (ipykernel)",
   "language": "python",
   "name": "python3"
  },
  "language_info": {
   "codemirror_mode": {
    "name": "ipython",
    "version": 3
   },
   "file_extension": ".py",
   "mimetype": "text/x-python",
   "name": "python",
   "nbconvert_exporter": "python",
   "pygments_lexer": "ipython3",
   "version": "3.9.12"
  }
 },
 "nbformat": 4,
 "nbformat_minor": 2
}
